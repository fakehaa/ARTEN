{
  "cells": [
    {
      "cell_type": "markdown",
      "source": [
        "# Machine Translation From Arabic to English Using Spark NLP"
      ],
      "metadata": {
        "id": "Z_eodIn8AmND"
      }
    },
    {
      "cell_type": "markdown",
      "metadata": {
        "id": "wIeCOiJNW-88"
      },
      "source": [
        "## Colab Setup"
      ]
    },
    {
      "cell_type": "code",
      "execution_count": null,
      "metadata": {
        "id": "CGJktFHdHL1n",
        "colab": {
          "base_uri": "https://localhost:8080/"
        },
        "outputId": "df2111df-401c-4927-9b17-73bd0030736d"
      },
      "outputs": [
        {
          "output_type": "stream",
          "name": "stdout",
          "text": [
            "\u001b[2K     \u001b[90m━━━━━━━━━━━━━━━━━━━━━━━━━━━━━━━━━━━━━━━━\u001b[0m \u001b[32m281.3/281.3 MB\u001b[0m \u001b[31m3.4 MB/s\u001b[0m eta \u001b[36m0:00:00\u001b[0m\n",
            "\u001b[?25h  Preparing metadata (setup.py) ... \u001b[?25l\u001b[?25hdone\n",
            "\u001b[2K     \u001b[90m━━━━━━━━━━━━━━━━━━━━━━━━━━━━━━━━━━━━━━━━\u001b[0m \u001b[32m453.8/453.8 kB\u001b[0m \u001b[31m27.9 MB/s\u001b[0m eta \u001b[36m0:00:00\u001b[0m\n",
            "\u001b[2K     \u001b[90m━━━━━━━━━━━━━━━━━━━━━━━━━━━━━━━━━━━━━━━━\u001b[0m \u001b[32m199.7/199.7 kB\u001b[0m \u001b[31m17.0 MB/s\u001b[0m eta \u001b[36m0:00:00\u001b[0m\n",
            "\u001b[?25h  Building wheel for pyspark (setup.py) ... \u001b[?25l\u001b[?25hdone\n",
            "\u001b[2K     \u001b[90m━━━━━━━━━━━━━━━━━━━━━━━━━━━━━━━━━━━━━━━━\u001b[0m \u001b[32m95.6/95.6 kB\u001b[0m \u001b[31m2.8 MB/s\u001b[0m eta \u001b[36m0:00:00\u001b[0m\n",
            "\u001b[2K     \u001b[90m━━━━━━━━━━━━━━━━━━━━━━━━━━━━━━━━━━━━━━━━\u001b[0m \u001b[32m66.9/66.9 kB\u001b[0m \u001b[31m4.5 MB/s\u001b[0m eta \u001b[36m0:00:00\u001b[0m\n",
            "\u001b[2K     \u001b[90m━━━━━━━━━━━━━━━━━━━━━━━━━━━━━━━━━━━━━━━━\u001b[0m \u001b[32m1.6/1.6 MB\u001b[0m \u001b[31m14.4 MB/s\u001b[0m eta \u001b[36m0:00:00\u001b[0m\n",
            "\u001b[?25h"
          ]
        }
      ],
      "source": [
        "! pip install -q pyspark==3.3.0 spark-nlp==4.2.8\n",
        "! pip install --upgrade -q spark-nlp-display"
      ]
    },
    {
      "cell_type": "markdown",
      "metadata": {
        "id": "eCIT5VLxS3I1"
      },
      "source": [
        "## Start the Spark session"
      ]
    },
    {
      "cell_type": "markdown",
      "metadata": {
        "id": "khjM-z9ORFU3"
      },
      "source": [
        "Import dependencies and start Spark session."
      ]
    },
    {
      "cell_type": "code",
      "execution_count": null,
      "metadata": {
        "id": "sw-t1zxlHTB7"
      },
      "outputs": [],
      "source": [
        "import json\n",
        "import pandas as pd\n",
        "import numpy as np\n",
        "\n",
        "import sparknlp\n",
        "import pyspark.sql.functions as F\n",
        "\n",
        "from pyspark.ml import Pipeline\n",
        "from pyspark.sql import SparkSession\n",
        "from sparknlp.annotator import *\n",
        "from sparknlp.base import *\n",
        "from sparknlp.pretrained import PretrainedPipeline\n",
        "from pyspark.sql.types import StringType, IntegerType"
      ]
    },
    {
      "cell_type": "code",
      "source": [
        "spark = sparknlp.start()\n",
        "\n",
        "print(\"Spark NLP version\", sparknlp.version())\n",
        "print(\"Apache Spark version:\", spark.version)\n",
        "\n",
        "spark"
      ],
      "metadata": {
        "colab": {
          "base_uri": "https://localhost:8080/",
          "height": 254
        },
        "id": "2PKMEfcevAsS",
        "outputId": "00c3f225-62cd-4d0c-f1ed-975e5d7540ba"
      },
      "execution_count": null,
      "outputs": [
        {
          "output_type": "stream",
          "name": "stdout",
          "text": [
            "Spark NLP version 4.2.8\n",
            "Apache Spark version: 3.3.0\n"
          ]
        },
        {
          "output_type": "execute_result",
          "data": {
            "text/plain": [
              "<pyspark.sql.session.SparkSession at 0x7f4021ecba00>"
            ],
            "text/html": [
              "\n",
              "            <div>\n",
              "                <p><b>SparkSession - in-memory</b></p>\n",
              "                \n",
              "        <div>\n",
              "            <p><b>SparkContext</b></p>\n",
              "\n",
              "            <p><a href=\"http://4060ab99f961:4040\">Spark UI</a></p>\n",
              "\n",
              "            <dl>\n",
              "              <dt>Version</dt>\n",
              "                <dd><code>v3.3.0</code></dd>\n",
              "              <dt>Master</dt>\n",
              "                <dd><code>local[*]</code></dd>\n",
              "              <dt>AppName</dt>\n",
              "                <dd><code>Spark NLP</code></dd>\n",
              "            </dl>\n",
              "        </div>\n",
              "        \n",
              "            </div>\n",
              "        "
            ]
          },
          "metadata": {},
          "execution_count": 3
        }
      ]
    },
    {
      "cell_type": "markdown",
      "metadata": {
        "id": "2Y9GpdJhXIpD"
      },
      "source": [
        "## Demo text to be translated to english"
      ]
    },
    {
      "cell_type": "code",
      "source": [
        "text = \"\"\"اليوم سنناقش الطقس في دبي\"\"\"\n",
        "#testing w ar"
      ],
      "metadata": {
        "id": "o8uCKdc5oTI1"
      },
      "execution_count": null,
      "outputs": []
    },
    {
      "cell_type": "markdown",
      "source": [
        "Demo for testing arabic news article"
      ],
      "metadata": {
        "id": "rgj_Avntr_nM"
      }
    },
    {
      "cell_type": "code",
      "source": [
        "!pip install -q newspaper3k\n",
        "import newspaper"
      ],
      "metadata": {
        "colab": {
          "base_uri": "https://localhost:8080/"
        },
        "id": "kCGnEWCjsNVR",
        "outputId": "53ada86f-ff9c-467d-b806-57116b998de2"
      },
      "execution_count": null,
      "outputs": [
        {
          "output_type": "stream",
          "name": "stdout",
          "text": [
            "\u001b[?25l     \u001b[90m━━━━━━━━━━━━━━━━━━━━━━━━━━━━━━━━━━━━━━━━\u001b[0m \u001b[32m0.0/211.1 kB\u001b[0m \u001b[31m?\u001b[0m eta \u001b[36m-:--:--\u001b[0m\r\u001b[2K     \u001b[91m━━━━━━━━━━━━━━━━━━━━━━━━━━━━━━━━━━━━━━\u001b[0m\u001b[91m╸\u001b[0m\u001b[90m━\u001b[0m \u001b[32m204.8/211.1 kB\u001b[0m \u001b[31m6.0 MB/s\u001b[0m eta \u001b[36m0:00:01\u001b[0m\r\u001b[2K     \u001b[90m━━━━━━━━━━━━━━━━━━━━━━━━━━━━━━━━━━━━━━━━\u001b[0m \u001b[32m211.1/211.1 kB\u001b[0m \u001b[31m4.5 MB/s\u001b[0m eta \u001b[36m0:00:00\u001b[0m\n",
            "\u001b[2K     \u001b[90m━━━━━━━━━━━━━━━━━━━━━━━━━━━━━━━━━━━━━━━━\u001b[0m \u001b[32m81.3/81.3 kB\u001b[0m \u001b[31m5.4 MB/s\u001b[0m eta \u001b[36m0:00:00\u001b[0m\n",
            "\u001b[2K     \u001b[90m━━━━━━━━━━━━━━━━━━━━━━━━━━━━━━━━━━━━━━━━\u001b[0m \u001b[32m97.6/97.6 kB\u001b[0m \u001b[31m5.7 MB/s\u001b[0m eta \u001b[36m0:00:00\u001b[0m\n",
            "\u001b[?25h  Preparing metadata (setup.py) ... \u001b[?25l\u001b[?25hdone\n",
            "\u001b[2K     \u001b[90m━━━━━━━━━━━━━━━━━━━━━━━━━━━━━━━━━━━━━━━━\u001b[0m \u001b[32m7.4/7.4 MB\u001b[0m \u001b[31m31.1 MB/s\u001b[0m eta \u001b[36m0:00:00\u001b[0m\n",
            "\u001b[?25h  Preparing metadata (setup.py) ... \u001b[?25l\u001b[?25hdone\n",
            "  Preparing metadata (setup.py) ... \u001b[?25l\u001b[?25hdone\n",
            "  Preparing metadata (setup.py) ... \u001b[?25l\u001b[?25hdone\n",
            "  Building wheel for tinysegmenter (setup.py) ... \u001b[?25l\u001b[?25hdone\n",
            "  Building wheel for feedfinder2 (setup.py) ... \u001b[?25l\u001b[?25hdone\n",
            "  Building wheel for jieba3k (setup.py) ... \u001b[?25l\u001b[?25hdone\n",
            "  Building wheel for sgmllib3k (setup.py) ... \u001b[?25l\u001b[?25hdone\n"
          ]
        }
      ]
    },
    {
      "cell_type": "code",
      "source": [
        "# Extract the article text from the URL\n",
        "article = newspaper.Article(\"https://www.aljazeera.net/politics/2024/6/9/%D9%88%D8%AB%D8%A7%D8%A6%D9%82-%D9%85%D8%B3%D8%B1%D8%A8%D8%A9-%D8%AA%D9%83%D8%B4%D9%81-%D8%B7%D9%84%D8%A8-%D8%A3%D9%85%D9%8A%D8%B1%D9%83%D8%A7-%D9%85%D9%86-%D8%AD%D9%84%D9%81%D8%A7%D8%A6%D9%87%D8%A7\")\n",
        "article.download()\n",
        "article.parse()\n",
        "text = article.text"
      ],
      "metadata": {
        "id": "vCXo0qjKsL2U"
      },
      "execution_count": null,
      "outputs": []
    },
    {
      "cell_type": "code",
      "source": [
        "print(text)"
      ],
      "metadata": {
        "colab": {
          "base_uri": "https://localhost:8080/"
        },
        "id": "1rTYyK83cPNJ",
        "outputId": "4eed0c73-09d9-49d8-b4d3-76629b83d26c"
      },
      "execution_count": null,
      "outputs": [
        {
          "output_type": "stream",
          "name": "stdout",
          "text": [
            "كشفت وثائق حصلت عليها صحيفة \"تايمز أوف إسرائيل\" أن الولايات المتحدة طلبت من حلفائها العرب عدم تحديد موعد نهائي لتنفيذ حل الدولتين بعد أن تضع الحرب في قطاع غزة أوزارها.\n",
            "\n",
            "وورد في تلك الوثائق أن إدارة الرئيس الأميركي جو بايدن تسعى لمنع حلفائها العرب من طرح رؤية بعيدة المدى لتسوية سلمية بين الإسرائيليين والفلسطينيين بعد انتهاء الحرب في غزة، والاستعاضة عنها بإطار عام أضيق نطاقا تؤكد الصحيفة أن حكومة رئيس الوزراء بنيامين نتنياهو سترفضه.\n",
            "\n",
            "وأشارت في تقرير لمدير مكتبها في الولايات المتحدة، جاكوب ماجد، إلى أن واشنطن ظلت، منذ بداية العام، تقود مجموعة اتصال من كبار الوزراء من السعودية والإمارات العربية المتحدة وقطر ومصر والأردن والسلطة الفلسطينية بهدف الدفع بخطة لإدارة قطاع غزة بعد الحرب.\n",
            "\n",
            "وفي أبريل/نيسان، فرغ الوزراء العرب -في اجتماع للتنسيق كمجموعة بشكل مستقل عن الولايات المتحدة- من صياغة رؤيتهم لما بعد الحرب، والتي تضمنت اعترافا دوليا فوريا بالدولة الفلسطينية، وإنشاء قوة لحفظ السلام في الضفة الغربية والقدس الشرقية وإطلاق محادثات سلام بين إسرائيل والسلطة الفلسطينية على أن تستكمل خلال عامين، بما يؤدي إلى نقل السيطرة الإسرائيلية على معابر الضفة الغربية إلى السلطة الفلسطينية، وفقا لمقاطع مسربة من الاقتراح حصلت عليها واشنطن.\n",
            "\n",
            "وعلى الرغم من أن الإدارة الأميركية تدعم حل الدولتين الأوسع نطاقا الذي يحاول شركاؤها العرب الستة المضي قدما نحو تنفيذه، فإنها اعتبرت مقترحهم \"غير واقعي إطلاقا\"، وفق التقرير نقلا عن دبلوماسي عربي رفيع المستوى مطلع على الموضوع.\n",
            "\n",
            "ووفقا للمصدر العربي، فإن وزارة الخارجية الأميركية أدركت أنها لا تستطيع ببساطة رفض الاقتراح العربي دون تقديم بديل، فصاغت سلسلة من المبادئ التي يمكن استخدامها كأساس لمواصلة المحادثات مع الشركاء في الشرق الأوسط.\n",
            "\n",
            "وأقر المسؤول العربي أن المبادرة لم تكن أولوية قصوى بالنسبة لإدارة بايدن، التي تولي أهمية أكبر بكثير للتوصل أولًا إلى اتفاق بشأن تبادل الأسرى يضع حدا للحرب بين إسرائيل وحركة المقاومة الإسلامية (حماس).\n",
            "\n",
            "ومع ذلك، فإن وثيقة وزارة الخارجية الأميركية التي تحمل عنوان \"بيان مشترك حول مبادئ دعم مستقبل السلام للإسرائيليين والفلسطينيين\" قد حظيت بموافقة البيت الأبيض، حسبما قال مسؤول أميركي، مضيفا أن واشنطن تستخدمها كأساس لمواصلة المحادثات مع حلفائها العرب، بما في ذلك الاجتماعات التي سيعقدها وزير خارجيتها أنتوني بلينكن في مصر وقطر والأردن مطلع هذا الأسبوع.\n",
            "\n",
            "وبحسب تقرير الصحيفة، فإن الوثيقة تتشابه إلى حد كبير مع مبادئ ما بعد الحرب التي وضعها بلينكن في طوكيو في الثامن من نوفمبر/تشرين الثاني 2023، رغم بعض الإضافات التي أدخلت عليها حيث تسعى الولايات المتحدة إلى أن تلتقي حلفاءها العرب في منتصف الطريق للتوصل إلى تفاهم.\n",
            "\n",
            "10 مبادئ\n",
            "\n",
            "وتتضمن الوثيقة التي حصلت عليها صحيفة \"تايمز أوف إسرائيل\" 10 مبادئ هي: دعوة المجتمع الدولي لدعم إعادة إعمار غزة، مع فتح المعابر إلى القطاع لضمان تدفق المساعدات دون عوائق، ورفض حكم الفصائل الفلسطينية المسلحة للقطاع، وانسحاب إسرائيلي كامل من غزة دون أي تقليص لأراضيها أو احتلال عسكري أو تهجير قسري للفلسطينيين، وإعادة توحيد غزة والضفة الغربية تحت قيادة السلطة الفلسطينية.\n",
            "\n",
            "وتدعو المبادئ إلى استئناف مفاوضات الوضع النهائي بين إسرائيل ومنظمة التحرير الفلسطينية، ودعم قيام دولة فلسطينية \"مستقلة ومتواصلة جغرافيا وقابلة للحياة\" على أساس خطوط الرابع من يونيو/حزيران 1967، حسبما نصت عليه مبادرة السلام العربية.\n",
            "\n",
            "وتعتبر تلك المبادئ أيضا أن إمكانية التطبيع بين إسرائيل والفلسطينيين مع إحراز تقدم ملموس نحو حل الدولتين، \"مسار واعد\" لتحقيق السلام والتكامل. كما ترفض الأعمال الأحادية الجانب من كلا الجانبين، مثل \"توسيع المستوطنات…وتمجيد الإرهاب والعنف\"، حسبما أوردت الصحيفة.\n",
            "\n",
            "كما تدعو إلى الالتزام بالتعهدات التي توصلت إليها القمتان اللتان عقدتا العام الماضي في مدينتي العقبة وشرم الشيخ، ومناشدة السلطة الفلسطينية تنفيذ إصلاحات بعيدة المدى \"تركز على الحكم الرشيد والشفافية ومكافحة الفساد، والتعليم وإصلاح الرعاية الاجتماعية\".\n"
          ]
        }
      ]
    },
    {
      "cell_type": "markdown",
      "metadata": {
        "id": "XftYgju4XOw_"
      },
      "source": [
        "=## Spark Pipeline"
      ]
    },
    {
      "cell_type": "code",
      "source": [
        "documentAssembler = DocumentAssembler()\\\n",
        "  .setInputCol(\"text\")\\\n",
        "  .setOutputCol(\"document\")\n",
        "\n",
        "## DL model can detect start and end of setence ==> more accurate\n",
        "sentencerDL = SentenceDetectorDLModel()\\\n",
        "  .pretrained(\"sentence_detector_dl\", \"xx\")\\\n",
        "  .setInputCols([\"document\"])\\\n",
        "  .setOutputCol(\"sentences\")\n",
        "\n",
        "marian = MarianTransformer.pretrained(\"opus_mt_ar_en\", \"xx\")\\\n",
        "  .setInputCols([\"sentences\"])\\\n",
        "  .setOutputCol(\"translation\")\n",
        "\n",
        "nlp_pipeline = Pipeline(\n",
        "    stages=[\n",
        "        documentAssembler,\n",
        "        sentencerDL,\n",
        "        marian\n",
        "        ])"
      ],
      "metadata": {
        "colab": {
          "base_uri": "https://localhost:8080/"
        },
        "id": "OLpLkZxLocLp",
        "outputId": "3e832f6e-aaa2-424a-e971-7ea39d23a254"
      },
      "execution_count": null,
      "outputs": [
        {
          "output_type": "stream",
          "name": "stdout",
          "text": [
            "sentence_detector_dl download started this may take some time.\n",
            "Approximate size to download 514.9 KB\n",
            "[OK!]\n",
            "opus_mt_ar_en download started this may take some time.\n",
            "Approximate size to download 390.7 MB\n",
            "[OK!]\n"
          ]
        }
      ]
    },
    {
      "cell_type": "markdown",
      "metadata": {
        "id": "mv0abcwhXWC-"
      },
      "source": [
        "## Run the pipeline"
      ]
    },
    {
      "cell_type": "code",
      "execution_count": null,
      "metadata": {
        "id": "EYf_9sXDXR4t",
        "colab": {
          "base_uri": "https://localhost:8080/"
        },
        "outputId": "606f8b16-874c-4a80-8fc1-c336e3cc8db1"
      },
      "outputs": [
        {
          "output_type": "stream",
          "name": "stdout",
          "text": [
            "Before _validateStagesInputCols\n"
          ]
        }
      ],
      "source": [
        "empty_df = spark.createDataFrame([[\"\"]]).toDF('text')\n",
        "pipeline_model = nlp_pipeline.fit(empty_df)\n",
        "lmodel = LightPipeline(pipeline_model)\n",
        "res = lmodel.fullAnnotate(text)\n"
      ]
    },
    {
      "cell_type": "markdown",
      "metadata": {
        "id": "UQY8tAP6XZJL"
      },
      "source": [
        "## Results for Terminal"
      ]
    },
    {
      "cell_type": "code",
      "execution_count": null,
      "metadata": {
        "colab": {
          "base_uri": "https://localhost:8080/"
        },
        "id": "Ar32BZu7J79X",
        "outputId": "cd0006f7-9bed-4af2-8354-7a7af0151d96"
      },
      "outputs": [
        {
          "output_type": "stream",
          "name": "stdout",
          "text": [
            "Original: كشفت وثائق حصلت عليها صحيفة \"تايمز أوف إسرائيل\" أن الولايات المتحدة طلبت من حلفائها العرب عدم تحديد موعد نهائي لتنفيذ حل الدولتين بعد أن تضع الحرب في قطاع غزة أوزارها.\n",
            "\n",
            "وورد في تلك الوثائق أن إدارة الرئيس الأميركي جو بايدن تسعى لمنع حلفائها العرب من طرح رؤية بعيدة المدى لتسوية سلمية بين الإسرائيليين والفلسطينيين بعد انتهاء الحرب في غزة، والاستعاضة عنها بإطار عام أضيق نطاقا تؤكد الصحيفة أن حكومة رئيس الوزراء بنيامين نتنياهو سترفضه.\n",
            "\n",
            "وأشارت في تقرير لمدير مكتبها في الولايات المتحدة، جاكوب ماجد، إلى أن واشنطن ظلت، منذ بداية العام، تقود مجموعة اتصال من كبار الوزراء من السعودية والإمارات العربية المتحدة وقطر ومصر والأردن والسلطة الفلسطينية بهدف الدفع بخطة لإدارة قطاع غزة بعد الحرب.\n",
            "\n",
            "وفي أبريل/نيسان، فرغ الوزراء العرب -في اجتماع للتنسيق كمجموعة بشكل مستقل عن الولايات المتحدة- من صياغة رؤيتهم لما بعد الحرب، والتي تضمنت اعترافا دوليا فوريا بالدولة الفلسطينية، وإنشاء قوة لحفظ السلام في الضفة الغربية والقدس الشرقية وإطلاق محادثات سلام بين إسرائيل والسلطة الفلسطينية على أن تستكمل خلال عامين، بما يؤدي إلى نقل السيطرة الإسرائيلية على معابر الضفة الغربية إلى السلطة الفلسطينية، وفقا لمقاطع مسربة من الاقتراح حصلت عليها واشنطن.\n",
            "\n",
            "وعلى الرغم من أن الإدارة الأميركية تدعم حل الدولتين الأوسع نطاقا الذي يحاول شركاؤها العرب الستة المضي قدما نحو تنفيذه، فإنها اعتبرت مقترحهم \"غير واقعي إطلاقا\"، وفق التقرير نقلا عن دبلوماسي عربي رفيع المستوى مطلع على الموضوع.\n",
            "\n",
            "ووفقا للمصدر العربي، فإن وزارة الخارجية الأميركية أدركت أنها لا تستطيع ببساطة رفض الاقتراح العربي دون تقديم بديل، فصاغت سلسلة من المبادئ التي يمكن استخدامها كأساس لمواصلة المحادثات مع الشركاء في الشرق الأوسط.\n",
            "\n",
            "وأقر المسؤول العربي أن المبادرة لم تكن أولوية قصوى بالنسبة لإدارة بايدن، التي تولي أهمية أكبر بكثير للتوصل أولًا إلى اتفاق بشأن تبادل الأسرى يضع حدا للحرب بين إسرائيل وحركة المقاومة الإسلامية (حماس).\n",
            "\n",
            "ومع ذلك، فإن وثيقة وزارة الخارجية الأميركية التي تحمل عنوان \"بيان مشترك حول مبادئ دعم مستقبل السلام للإسرائيليين والفلسطينيين\" قد حظيت بموافقة البيت الأبيض، حسبما قال مسؤول أميركي، مضيفا أن واشنطن تستخدمها كأساس لمواصلة المحادثات مع حلفائها العرب، بما في ذلك الاجتماعات التي سيعقدها وزير خارجيتها أنتوني بلينكن في مصر وقطر والأردن مطلع هذا الأسبوع.\n",
            "\n",
            "وبحسب تقرير الصحيفة، فإن الوثيقة تتشابه إلى حد كبير مع مبادئ ما بعد الحرب التي وضعها بلينكن في طوكيو في الثامن من نوفمبر/تشرين الثاني 2023، رغم بعض الإضافات التي أدخلت عليها حيث تسعى الولايات المتحدة إلى أن تلتقي حلفاءها العرب في منتصف الطريق للتوصل إلى تفاهم.\n",
            "\n",
            "10 مبادئ\n",
            "\n",
            "وتتضمن الوثيقة التي حصلت عليها صحيفة \"تايمز أوف إسرائيل\" 10 مبادئ هي: دعوة المجتمع الدولي لدعم إعادة إعمار غزة، مع فتح المعابر إلى القطاع لضمان تدفق المساعدات دون عوائق، ورفض حكم الفصائل الفلسطينية المسلحة للقطاع، وانسحاب إسرائيلي كامل من غزة دون أي تقليص لأراضيها أو احتلال عسكري أو تهجير قسري للفلسطينيين، وإعادة توحيد غزة والضفة الغربية تحت قيادة السلطة الفلسطينية.\n",
            "\n",
            "وتدعو المبادئ إلى استئناف مفاوضات الوضع النهائي بين إسرائيل ومنظمة التحرير الفلسطينية، ودعم قيام دولة فلسطينية \"مستقلة ومتواصلة جغرافيا وقابلة للحياة\" على أساس خطوط الرابع من يونيو/حزيران 1967، حسبما نصت عليه مبادرة السلام العربية.\n",
            "\n",
            "وتعتبر تلك المبادئ أيضا أن إمكانية التطبيع بين إسرائيل والفلسطينيين مع إحراز تقدم ملموس نحو حل الدولتين، \"مسار واعد\" لتحقيق السلام والتكامل. كما ترفض الأعمال الأحادية الجانب من كلا الجانبين، مثل \"توسيع المستوطنات…وتمجيد الإرهاب والعنف\"، حسبما أوردت الصحيفة.\n",
            "\n",
            "كما تدعو إلى الالتزام بالتعهدات التي توصلت إليها القمتان اللتان عقدتا العام الماضي في مدينتي العقبة وشرم الشيخ، ومناشدة السلطة الفلسطينية تنفيذ إصلاحات بعيدة المدى \"تركز على الحكم الرشيد والشفافية ومكافحة الفساد، والتعليم وإصلاح الرعاية الاجتماعية\". \n",
            "\n",
            "\n",
            "Translated:\n",
            "\n",
            "Documents obtained by Times of Israel revealed that the United States had asked its Arab allies not to set a deadline for the implementation of the two-State solution after the war in the Gaza Strip had been put\n",
            "It is stated in those documents that the administration of US President Joe Biden is seeking to prevent its Arab allies from presenting a far-reaching vision for a peaceful settlement between Israelis and Palestinians after the\n",
            "In a report by her United States Bureau Director, Jacob Majid, she noted that since the beginning of the year Washington had been leading a contact group of senior ministers from Saudi Arabia, the United Arab\n",
            "In April, Arab ministers at a coordination meeting as a group independent of the United States finalized their vision of the post-war era, which included immediate international recognition of the Palestinian State and the establishment of\n",
            "Although the US administration supports the broader two-State solution that its six Arab partners are trying to move towards, it has considered their proposal \"incredibly unrealistic,\" according to the report, to be \"\n",
            "According to the Arab source, the US State Department realized that it could not simply reject the Arab proposal without offering an alternative, and formulated a series of principles that could be used as a basis for continuing\n",
            "The Arab official acknowledged that the initiative was not a top priority for the Biden administration, which attaches much greater importance to reaching first agreement on the exchange of prisoners that would end the war between Israel\n",
            "However, the US State Department document entitled \"Joint statement on principles for supporting the future of peace for Israelis and Palestinians\" was approved by the White House, according to an American official,\n",
            "According to the newspaper report, the document is very similar to the post-war principles set out in the Tokyo Times on November 8, 2023, despite some additions made.\n",
            "10 Principles\n",
            "The document obtained by Times of Israel contains 10 principles: call for the international community to support the reconstruction of Gaza, with the opening of crossings into the Strip to ensure the unimpeded flow of aid, and\n",
            "The Principles call for the resumption of final status negotiations between Israel and the Palestine Liberation Organization and support for the establishment of a \"independent, contiguous and viable\" Palestinian State on the basis of the lines of\n",
            "Those principles also consider the possibility of normalization between Israel and the Palestinians, with tangible progress towards a two-State solution, a \"promise path\" to peace and integration.\n",
            "It also rejects unilateral actions on both sides, such as \"the expansion of settlements... and the glorification of terrorism and violence,\" according to the newspaper.\n",
            "It also calls for the commitment of the two summits held last year in the cities of Aqaba and Sharm el-Sheikh and calls upon the Palestinian Authority to implement far-reaching reforms focused on good governance\n"
          ]
        }
      ],
      "source": [
        "print ('Original:', text, '\\n\\n')\n",
        "\n",
        "print ('Translated:\\n')\n",
        "for sentence in res[0]['translation']:\n",
        "  print (sentence.result)"
      ]
    },
    {
      "cell_type": "code",
      "source": [
        "sentence = \"\"\n",
        "for s in res[0]['translation']:\n",
        "  sentence = sentence + s.result\n",
        "\n",
        "print(sentence)"
      ],
      "metadata": {
        "colab": {
          "base_uri": "https://localhost:8080/"
        },
        "id": "wu0GMbJVfnl7",
        "outputId": "5b689b7f-6104-4be0-a9ff-7472f34906e6"
      },
      "execution_count": null,
      "outputs": [
        {
          "output_type": "stream",
          "name": "stdout",
          "text": [
            "Documents obtained by Times of Israel revealed that the United States had asked its Arab allies not to set a deadline for the implementation of the two-State solution after the war in the Gaza Strip had been putIt is stated in those documents that the administration of US President Joe Biden is seeking to prevent its Arab allies from presenting a far-reaching vision for a peaceful settlement between Israelis and Palestinians after theIn a report by her United States Bureau Director, Jacob Majid, she noted that since the beginning of the year Washington had been leading a contact group of senior ministers from Saudi Arabia, the United ArabIn April, Arab ministers at a coordination meeting as a group independent of the United States finalized their vision of the post-war era, which included immediate international recognition of the Palestinian State and the establishment ofAlthough the US administration supports the broader two-State solution that its six Arab partners are trying to move towards, it has considered their proposal \"incredibly unrealistic,\" according to the report, to be \"According to the Arab source, the US State Department realized that it could not simply reject the Arab proposal without offering an alternative, and formulated a series of principles that could be used as a basis for continuingThe Arab official acknowledged that the initiative was not a top priority for the Biden administration, which attaches much greater importance to reaching first agreement on the exchange of prisoners that would end the war between IsraelHowever, the US State Department document entitled \"Joint statement on principles for supporting the future of peace for Israelis and Palestinians\" was approved by the White House, according to an American official,According to the newspaper report, the document is very similar to the post-war principles set out in the Tokyo Times on November 8, 2023, despite some additions made.10 PrinciplesThe document obtained by Times of Israel contains 10 principles: call for the international community to support the reconstruction of Gaza, with the opening of crossings into the Strip to ensure the unimpeded flow of aid, andThe Principles call for the resumption of final status negotiations between Israel and the Palestine Liberation Organization and support for the establishment of a \"independent, contiguous and viable\" Palestinian State on the basis of the lines ofThose principles also consider the possibility of normalization between Israel and the Palestinians, with tangible progress towards a two-State solution, a \"promise path\" to peace and integration.It also rejects unilateral actions on both sides, such as \"the expansion of settlements... and the glorification of terrorism and violence,\" according to the newspaper.It also calls for the commitment of the two summits held last year in the cities of Aqaba and Sharm el-Sheikh and calls upon the Palestinian Authority to implement far-reaching reforms focused on good governance\n"
          ]
        }
      ]
    },
    {
      "cell_type": "markdown",
      "source": [
        "#Summarization"
      ],
      "metadata": {
        "id": "2rfIv9TneEPX"
      }
    },
    {
      "cell_type": "code",
      "source": [
        "from transformers import pipeline\n",
        "\n",
        "summarizer = pipeline(\"summarization\", model=\"facebook/bart-large-cnn\")"
      ],
      "metadata": {
        "colab": {
          "base_uri": "https://localhost:8080/",
          "height": 209,
          "referenced_widgets": [
            "b525d52d772640b4978ead68ceaa01c5",
            "3019fe207bb64d5a8cb2aea73fa4b8b2",
            "9d5918d57847409cb3a16f930e56bb79",
            "99a3da0379fe479691959c364e17427a",
            "9651c4e51bba4e86b81ee2af34649971",
            "9a4c34057930439abf2954cbc4a2d8c0",
            "0d42b38064fa4a71a8425ad2f28624fc",
            "ac9fd8db077d496e9681d9cd33abba85",
            "945c64d0c7c74ffa912be160f55c47b9",
            "d09ea13353b34dda8aef35492d3e07f6",
            "01e9360a3c57492ca4bfba3f83cc211f",
            "afdef05918254d3890a59fb0ed1a3cd7",
            "7ccf008cb16c42008335596b5fdc2c0a",
            "511a016d37bb45fb9e33c7c57c4fd7d0",
            "36392e8d357845709865a75d71aeaa51",
            "54716a78638b42e39b59eb7de0543a4c",
            "90f63cee911846729ec28d55aa5d9f3e",
            "27fbf38997014e0e8fe72f593c1a4e0f",
            "92c343dee4944b01a87da9b89b83db55",
            "f11ecc12e3fc48ae8af90dc28d7466c5",
            "05a3d41e971747e8b44fafacf6639fac",
            "6e00674ffb3642d0b45edfa282900e65",
            "19ee9b27efa247c8a7765f94cd687ad8",
            "4bfaa873c18b49e2a37cea6a945661a5",
            "6f882d62a2c54f5392a25ec4eabadfa1",
            "04518d4d5d6046a8b0f518f5c6e5a35f",
            "76d2d5cb3a2a4ec9a780db04b0b3ee14",
            "a38a57cfac204fbf97f487fa541a49b7",
            "4eafd49d850d4c64a99af70ea2dc95f8",
            "3424ff031d6741d3a61fb5d39005c93f",
            "c8a17369f0d642d8ba9b1aba4f463b3a",
            "094b219a1f994c33967aa2df5957b856",
            "1c149fd20b7c46e083c6a56003307f06",
            "0bc883b24db744f79712ee01b3ebb0c4",
            "359db345767442608563fa5b7a06db68",
            "d9fa6efe60974df38514448ecffc632d",
            "dca4a40ec8a2405aa7b13a232630aed2",
            "036e6d4119b64b91beefc8781776d755",
            "8225f0b5d4084be8b746c3ecf0e10b07",
            "18d101a09b6e447c8fa0f43906e6a5e6",
            "921e5b7a84a84781b1cd425251c84a5a",
            "06c329b2c6f94450868243e5cdf1c7be",
            "6eb508432b2d42978c74530d2de57544",
            "5939fc5a3ed6450a856ae6d5bef12a1a",
            "bf7f160cad574c0980e985c89eba84a5",
            "de26fcdf889f4d9193cf7889826d5187",
            "b328a65659ab4bcbae753ca8d201c705",
            "45f5b124d33b42dfa42e1cf531cd58e2",
            "576d9cf943874fe39540741a0469e88f",
            "eb71f9c61d624f4d8af8bdd545a4d413",
            "1f263cbc9f774da6b477066193d22adf",
            "e020e23c641d4980827e185887322d76",
            "484086c0ccfa483bb7803ecac9f773ca",
            "f897fb5463a849be94030444008b9f24",
            "8948445f9c3746f0b359b279df7c02e0",
            "a9f9c8996e2e4da2a11c22309c81fc5a",
            "098d1253d3f64bdc9a6206c697538e75",
            "553c0bd84a9f4b4a855f2a29bdb58c30",
            "193bcd4d84424bde9a26e18df32a3d87",
            "2ece4b80fbfd41ee8e993c52b6077d0f",
            "c10a5cc27f094bc5a7903abcafef2f9b",
            "95905603e2654e94865a3241909bc0b1",
            "1d272ad6614b42c995ded382cb058f2c",
            "c989fec7e8ec49a3947f319b31246419",
            "24b9270c5f3243bc9927b9d74a0bf700",
            "d4295a04d3c94c61b3bab661554f6fab"
          ]
        },
        "id": "breEcCteeGKd",
        "outputId": "646d5496-a95c-49a3-c7db-e15e0e18ff7e"
      },
      "execution_count": null,
      "outputs": [
        {
          "output_type": "display_data",
          "data": {
            "text/plain": [
              "config.json:   0%|          | 0.00/1.58k [00:00<?, ?B/s]"
            ],
            "application/vnd.jupyter.widget-view+json": {
              "version_major": 2,
              "version_minor": 0,
              "model_id": "b525d52d772640b4978ead68ceaa01c5"
            }
          },
          "metadata": {}
        },
        {
          "output_type": "display_data",
          "data": {
            "text/plain": [
              "model.safetensors:   0%|          | 0.00/1.63G [00:00<?, ?B/s]"
            ],
            "application/vnd.jupyter.widget-view+json": {
              "version_major": 2,
              "version_minor": 0,
              "model_id": "afdef05918254d3890a59fb0ed1a3cd7"
            }
          },
          "metadata": {}
        },
        {
          "output_type": "display_data",
          "data": {
            "text/plain": [
              "generation_config.json:   0%|          | 0.00/363 [00:00<?, ?B/s]"
            ],
            "application/vnd.jupyter.widget-view+json": {
              "version_major": 2,
              "version_minor": 0,
              "model_id": "19ee9b27efa247c8a7765f94cd687ad8"
            }
          },
          "metadata": {}
        },
        {
          "output_type": "display_data",
          "data": {
            "text/plain": [
              "vocab.json:   0%|          | 0.00/899k [00:00<?, ?B/s]"
            ],
            "application/vnd.jupyter.widget-view+json": {
              "version_major": 2,
              "version_minor": 0,
              "model_id": "0bc883b24db744f79712ee01b3ebb0c4"
            }
          },
          "metadata": {}
        },
        {
          "output_type": "display_data",
          "data": {
            "text/plain": [
              "merges.txt:   0%|          | 0.00/456k [00:00<?, ?B/s]"
            ],
            "application/vnd.jupyter.widget-view+json": {
              "version_major": 2,
              "version_minor": 0,
              "model_id": "bf7f160cad574c0980e985c89eba84a5"
            }
          },
          "metadata": {}
        },
        {
          "output_type": "display_data",
          "data": {
            "text/plain": [
              "tokenizer.json:   0%|          | 0.00/1.36M [00:00<?, ?B/s]"
            ],
            "application/vnd.jupyter.widget-view+json": {
              "version_major": 2,
              "version_minor": 0,
              "model_id": "a9f9c8996e2e4da2a11c22309c81fc5a"
            }
          },
          "metadata": {}
        }
      ]
    },
    {
      "cell_type": "code",
      "source": [
        "summary = summarizer(sentence)\n",
        "if not summary or not summary[0] or 'summary_text' not in summary[0]:\n",
        "    print( \"Failed to summarize the text.\", \"Failed to summarize the text.\")\n",
        "summarized_text = summary[0]['summary_text']"
      ],
      "metadata": {
        "id": "bHLEjXZWe7i5"
      },
      "execution_count": null,
      "outputs": []
    },
    {
      "cell_type": "code",
      "source": [
        "print(summarized_text)"
      ],
      "metadata": {
        "colab": {
          "base_uri": "https://localhost:8080/"
        },
        "id": "BLm1qCiNgq8i",
        "outputId": "916840be-24dd-42c0-ea7e-9f9251841d53"
      },
      "execution_count": null,
      "outputs": [
        {
          "output_type": "stream",
          "name": "stdout",
          "text": [
            "Documents obtained by Times of Israel revealed that the United States had asked its Arab allies not to set a deadline for the implementation of the two-State solution after the war in the Gaza Strip. The administration of US President Joe Biden is seeking to prevent Arab allies from presenting a far-reaching vision for a peaceful settlement.\n"
          ]
        }
      ]
    },
    {
      "cell_type": "markdown",
      "source": [
        "# Deploying the Spark Based Model using Flask and ngrok"
      ],
      "metadata": {
        "id": "3B84uIY8tZ61"
      }
    },
    {
      "cell_type": "code",
      "source": [
        "!pip install Flask"
      ],
      "metadata": {
        "colab": {
          "base_uri": "https://localhost:8080/"
        },
        "id": "BVrkzGj2tpV9",
        "outputId": "b51db645-4567-42b0-82c3-7c13eaf2f252"
      },
      "execution_count": null,
      "outputs": [
        {
          "output_type": "stream",
          "name": "stdout",
          "text": [
            "Requirement already satisfied: Flask in /usr/local/lib/python3.10/dist-packages (2.2.5)\n",
            "Requirement already satisfied: Werkzeug>=2.2.2 in /usr/local/lib/python3.10/dist-packages (from Flask) (3.0.3)\n",
            "Requirement already satisfied: Jinja2>=3.0 in /usr/local/lib/python3.10/dist-packages (from Flask) (3.1.4)\n",
            "Requirement already satisfied: itsdangerous>=2.0 in /usr/local/lib/python3.10/dist-packages (from Flask) (2.2.0)\n",
            "Requirement already satisfied: click>=8.0 in /usr/local/lib/python3.10/dist-packages (from Flask) (8.1.7)\n",
            "Requirement already satisfied: MarkupSafe>=2.0 in /usr/local/lib/python3.10/dist-packages (from Jinja2>=3.0->Flask) (2.1.5)\n"
          ]
        }
      ]
    },
    {
      "cell_type": "code",
      "source": [
        "!pip install pyngrok"
      ],
      "metadata": {
        "colab": {
          "base_uri": "https://localhost:8080/"
        },
        "id": "aW9OKX93-RLg",
        "outputId": "9e13f451-259c-4162-f37a-77808679d5cf"
      },
      "execution_count": null,
      "outputs": [
        {
          "output_type": "stream",
          "name": "stdout",
          "text": [
            "Collecting pyngrok\n",
            "  Downloading pyngrok-7.1.6-py3-none-any.whl (22 kB)\n",
            "Requirement already satisfied: PyYAML>=5.1 in /usr/local/lib/python3.10/dist-packages (from pyngrok) (6.0.1)\n",
            "Installing collected packages: pyngrok\n",
            "Successfully installed pyngrok-7.1.6\n"
          ]
        }
      ]
    },
    {
      "cell_type": "code",
      "source": [
        "!pip install Flask pyngrok\n",
        "!pip install -q pyspark==3.3.0 spark-nlp==4.2.8\n",
        "!pip install --upgrade -q spark-nlp-display"
      ],
      "metadata": {
        "colab": {
          "base_uri": "https://localhost:8080/"
        },
        "id": "q9JKBNsn-8r4",
        "outputId": "59589321-43b6-47aa-a2a4-2abad1968b49"
      },
      "execution_count": null,
      "outputs": [
        {
          "output_type": "stream",
          "name": "stdout",
          "text": [
            "Requirement already satisfied: Flask in /usr/local/lib/python3.10/dist-packages (2.2.5)\n",
            "Requirement already satisfied: pyngrok in /usr/local/lib/python3.10/dist-packages (7.1.6)\n",
            "Requirement already satisfied: Werkzeug>=2.2.2 in /usr/local/lib/python3.10/dist-packages (from Flask) (3.0.3)\n",
            "Requirement already satisfied: Jinja2>=3.0 in /usr/local/lib/python3.10/dist-packages (from Flask) (3.1.4)\n",
            "Requirement already satisfied: itsdangerous>=2.0 in /usr/local/lib/python3.10/dist-packages (from Flask) (2.2.0)\n",
            "Requirement already satisfied: click>=8.0 in /usr/local/lib/python3.10/dist-packages (from Flask) (8.1.7)\n",
            "Requirement already satisfied: PyYAML>=5.1 in /usr/local/lib/python3.10/dist-packages (from pyngrok) (6.0.1)\n",
            "Requirement already satisfied: MarkupSafe>=2.0 in /usr/local/lib/python3.10/dist-packages (from Jinja2>=3.0->Flask) (2.1.5)\n"
          ]
        }
      ]
    },
    {
      "cell_type": "code",
      "source": [
        "import json\n",
        "import pandas as pd\n",
        "import numpy as np\n",
        "from flask import Flask, request, render_template_string\n",
        "import sparknlp\n",
        "from sparknlp.pretrained import PretrainedPipeline\n",
        "from sparknlp.base import DocumentAssembler\n",
        "from sparknlp.annotator import SentenceDetectorDLModel, MarianTransformer\n",
        "from pyspark.ml import Pipeline\n",
        "from pyspark.sql import SparkSession\n",
        "from sparknlp.base import LightPipeline\n",
        "from transformers import pipeline as transformers_pipeline\n",
        "from newspaper import Article"
      ],
      "metadata": {
        "id": "j3TIt9W7--bR"
      },
      "execution_count": null,
      "outputs": []
    },
    {
      "cell_type": "code",
      "source": [
        "spark = sparknlp.start()\n",
        "\n",
        "summarizer = transformers_pipeline(\"summarization\", model=\"facebook/bart-large-cnn\")\n",
        "\n",
        "def get_pipeline():\n",
        "    documentAssembler = DocumentAssembler().setInputCol(\"text\").setOutputCol(\"document\")\n",
        "    sentencerDL = SentenceDetectorDLModel().pretrained(\"sentence_detector_dl\", \"xx\").setInputCols([\"document\"]).setOutputCol(\"sentences\")\n",
        "    marian = MarianTransformer.pretrained(\"opus_mt_ar_en\", \"xx\").setInputCols([\"sentences\"]).setOutputCol(\"translation\")\n",
        "\n",
        "    nlp_pipeline = Pipeline(stages=[documentAssembler, sentencerDL, marian])\n",
        "    empty_df = spark.createDataFrame([[\"\"]]).toDF('text')\n",
        "    pipeline_model = nlp_pipeline.fit(empty_df)\n",
        "    lmodel = LightPipeline(pipeline_model)\n",
        "    return lmodel\n",
        "\n",
        "pipeline = get_pipeline()\n",
        "\n",
        "# Function to extract text from a URL using newspaper3k\n",
        "def extract_text_from_url(url):\n",
        "    article = Article(url)\n",
        "    article.download()\n",
        "    article.parse()\n",
        "    return article.text\n",
        "def summarize_text(text):\n",
        "    summary = summarizer(text)\n",
        "    if not summary or not summary[0] or 'summary_text' not in summary[0]:\n",
        "        return \"Failed to summarize the text.\"\n",
        "    return summary[0]['summary_text']\n",
        "\n",
        "# Starting Flask app\n",
        "app = Flask(__name__)\n",
        "\n",
        "# HTML template as a string\n",
        "template = \"\"\"\n",
        "<!DOCTYPE html>\n",
        "<html lang=\"en\">\n",
        "<head>\n",
        "    <meta charset=\"UTF-8\">\n",
        "    <title>Machine Translation</title>\n",
        "</head>\n",
        "<body>\n",
        "    <h1>Machine Translation</h1>\n",
        "    <form method=\"POST\" action=\"/translate\">\n",
        "        <label for=\"text\">Text to translate:</label><br>\n",
        "        <textarea id=\"text\" name=\"text\" rows=\"4\" cols=\"50\"></textarea><br><br>\n",
        "\n",
        "        <input type=\"submit\" value=\"Translate\">\n",
        "    </form>\n",
        "    <h1>URL Translation and Summarization</h1>\n",
        "    <form method=\"POST\" action=\"/translate_url\">\n",
        "        <label for=\"url\">URL to translate and summarize:</label><br>\n",
        "        <input type=\"text\" id=\"url\" name=\"url\" size=\"50\"><br><br>\n",
        "\n",
        "        <input type=\"submit\" value=\"Translate and Summarize\">\n",
        "    </form>\n",
        "    {% if original_text %}\n",
        "        <h2>Original Text:</h2>\n",
        "        <p>{{ original_text }}</p>\n",
        "        <h2>Translated Text:</h2>\n",
        "        <p>{{ translated_text }}</p>\n",
        "    {% endif %}\n",
        "    {% if summarized_text %}\n",
        "        <h2>Summarized Text:</h2>\n",
        "        <p>{{ summarized_text }}</p>\n",
        "    {% endif %}\n",
        "</body>\n",
        "</html>\n",
        "\"\"\"\n",
        "\n",
        "@app.route('/')\n",
        "def index():\n",
        "    return render_template_string(template)\n",
        "\n",
        "@app.route('/translate', methods=['POST'])\n",
        "def translate():\n",
        "    text = request.form['text']\n",
        "    res = pipeline.fullAnnotate(text)\n",
        "    translated_text = \" \".join([sentence.result for sentence in res[0]['translation']])\n",
        "    return render_template_string(template, original_text=text, translated_text=translated_text)\n",
        "\n",
        "@app.route('/translate_url', methods=['POST'])\n",
        "def translate_url():\n",
        "    url = request.form['url']\n",
        "    original_text = extract_text_from_url(url)\n",
        "    res = pipeline.fullAnnotate(original_text)\n",
        "    translated_text = \" \".join([sentence.result for sentence in res[0]['translation']])\n",
        "    summarized_text = summarize_text(translated_text)\n",
        "    return render_template_string(template, original_text=original_text, translated_text=translated_text, summarized_text=summarized_text)\n",
        "\n",
        "# Run Flask app\n",
        "from pyngrok import ngrok\n",
        "\n",
        "# Set ngrok token\n",
        "NGROK_AUTH_TOKEN = \"YOUR AUTH TOKEN\"\n",
        "ngrok.set_auth_token(NGROK_AUTH_TOKEN)\n",
        "\n",
        "public_url = ngrok.connect(5000)\n",
        "print(f'Public URL: {public_url}')\n",
        "app.run(port=5000)"
      ],
      "metadata": {
        "colab": {
          "base_uri": "https://localhost:8080/"
        },
        "id": "DfO_1qGntrMW",
        "outputId": "2d264fb5-ddd4-4840-9bd7-650117a392ff"
      },
      "execution_count": null,
      "outputs": [
        {
          "output_type": "stream",
          "name": "stdout",
          "text": [
            "sentence_detector_dl download started this may take some time.\n",
            "Approximate size to download 514.9 KB\n",
            "[OK!]\n",
            "opus_mt_ar_en download started this may take some time.\n",
            "Approximate size to download 390.7 MB\n",
            "[OK!]\n"
          ]
        },
        {
          "output_type": "stream",
          "name": "stderr",
          "text": [
            "WARNING:pyngrok.process.ngrok:t=2024-06-11T14:16:35+0000 lvl=warn msg=\"can't bind default web address, trying alternatives\" obj=web addr=127.0.0.1:4040\n"
          ]
        },
        {
          "output_type": "stream",
          "name": "stdout",
          "text": [
            "Public URL: NgrokTunnel: \"https://a3d9-34-91-45-112.ngrok-free.app\" -> \"http://localhost:5000\"\n",
            " * Serving Flask app '__main__'\n",
            " * Debug mode: off\n"
          ]
        },
        {
          "output_type": "stream",
          "name": "stderr",
          "text": [
            "INFO:werkzeug:\u001b[31m\u001b[1mWARNING: This is a development server. Do not use it in a production deployment. Use a production WSGI server instead.\u001b[0m\n",
            " * Running on http://127.0.0.1:5000\n",
            "INFO:werkzeug:\u001b[33mPress CTRL+C to quit\u001b[0m\n",
            "INFO:werkzeug:127.0.0.1 - - [11/Jun/2024 14:17:13] \"GET / HTTP/1.1\" 200 -\n",
            "INFO:werkzeug:127.0.0.1 - - [11/Jun/2024 14:17:14] \"\u001b[33mGET /favicon.ico HTTP/1.1\u001b[0m\" 404 -\n"
          ]
        },
        {
          "output_type": "stream",
          "name": "stdout",
          "text": [
            "Before _validateStagesInputCols\n",
            "Before _validateStagesInputCols\n"
          ]
        },
        {
          "output_type": "stream",
          "name": "stderr",
          "text": [
            "INFO:werkzeug:127.0.0.1 - - [11/Jun/2024 14:22:44] \"POST /translate_url HTTP/1.1\" 200 -\n",
            "INFO:werkzeug:127.0.0.1 - - [11/Jun/2024 14:27:38] \"POST /translate_url HTTP/1.1\" 200 -\n"
          ]
        },
        {
          "output_type": "stream",
          "name": "stdout",
          "text": [
            "Before _validateStagesInputCols\n"
          ]
        }
      ]
    },
    {
      "cell_type": "code",
      "source": [
        "\n",
        "spark = sparknlp.start()\n",
        "\n",
        "def get_pipeline():\n",
        "    documentAssembler = DocumentAssembler().setInputCol(\"text\").setOutputCol(\"document\")\n",
        "    sentencerDL = SentenceDetectorDLModel().pretrained(\"sentence_detector_dl\", \"xx\").setInputCols([\"document\"]).setOutputCol(\"sentences\")\n",
        "    marian = MarianTransformer.pretrained(\"opus_mt_ar_en\", \"xx\").setInputCols([\"sentences\"]).setOutputCol(\"translation\")\n",
        "\n",
        "    nlp_pipeline = Pipeline(stages=[documentAssembler, sentencerDL, marian])\n",
        "    empty_df = spark.createDataFrame([[\"\"]]).toDF('text')\n",
        "    pipeline_model = nlp_pipeline.fit(empty_df)\n",
        "    lmodel = LightPipeline(pipeline_model)\n",
        "    return lmodel\n",
        "\n",
        "# this will load the above pipeline to do MT ar ==> eng\n",
        "pipeline = get_pipeline()\n",
        "\n",
        "# Starting Flask app\n",
        "app = Flask(__name__)\n",
        "\n",
        "# Colab cannot take HTML files as is so declare as a string and then use\n",
        "template = \"\"\"\n",
        "<!DOCTYPE html>\n",
        "<html lang=\"en\">\n",
        "<head>\n",
        "    <meta charset=\"UTF-8\">\n",
        "    <title>Arabic to English</title>\n",
        "    <style>\n",
        "        h1{\n",
        "            font-size: 42pt;\n",
        "            font-family: Impact, Haettenschweiler, 'Arial Narrow Bold', sans-serif;\n",
        "            align-items: center;\n",
        "            color: rgb(33, 21, 6);\n",
        "            justify-content: center;\n",
        "        }\n",
        "        body{\n",
        "            background-color: rgb(167, 158, 216);\n",
        "        }\n",
        "        p{\n",
        "            font-size: 20pt;\n",
        "            font-style: italic;\n",
        "            font-family: 'Segoe UI', Tahoma, Geneva, Verdana, sans-serif;\n",
        "            align-items: center;\n",
        "            justify-content: center;\n",
        "        }\n",
        "    </style>\n",
        "</head>\n",
        "<body>\n",
        "    <h1>Arabic To English</h1>\n",
        "    <h2>Machine Translation</h2>\n",
        "    <p>This is a Spark NLP based model that takes input in <b>Arabic</b> and changes it to <b>English</b></p>\n",
        "    <form method=\"POST\" action=\"/translate\">\n",
        "        <label for=\"text\">Text to translate:</label><br>\n",
        "        <textarea id=\"text\" name=\"text\" rows=\"4\" cols=\"50\"></textarea><br><br>\n",
        "\n",
        "        <input type=\"submit\" value=\"Translate\">\n",
        "    </form>\n",
        "    {% if original_text %}\n",
        "        <h2>Original Text:</h2>\n",
        "        <p>{{ original_text }}</p>\n",
        "        <h2>Translated Text:</h2>\n",
        "        <p>{{ translated_text }}</p>\n",
        "    {% endif %}\n",
        "\n",
        "    <h1>Why make an Arabic to English Translator</h1>\n",
        "    <p>bc we wanted to lmao</p>\n",
        "</body>\n",
        "</html>\n",
        "\"\"\"\n",
        "\n",
        "@app.route('/')\n",
        "def index():\n",
        "    return render_template_string(template)\n",
        "\n",
        "@app.route('/translate', methods=['POST'])\n",
        "def translate():\n",
        "    text = request.form['text']\n",
        "    res = pipeline.fullAnnotate(text)\n",
        "\n",
        "    translated_text = \" \".join([sentence.result for sentence in res[0]['translation']])\n",
        "    return render_template_string(template, original_text=text, translated_text=translated_text)\n",
        "\n",
        "# Run Flask app\n",
        "from pyngrok import ngrok\n",
        "\n",
        "# Set  ngrok authtoken\n",
        "NGROK_AUTH_TOKEN = \"YOUR AUTH TOKEN\"\n",
        "#this token is from my uni account\n",
        "ngrok.set_auth_token(NGROK_AUTH_TOKEN)\n",
        "\n",
        "public_url = ngrok.connect(5000)\n",
        "print(f'Public URL: {public_url}')\n",
        "app.run(port=5000)\n"
      ],
      "metadata": {
        "id": "VgKfuLUPEOH2"
      },
      "execution_count": null,
      "outputs": []
    }
  ],
  "metadata": {
    "colab": {
      "provenance": []
    },
    "interpreter": {
      "hash": "45150093197569bb3a58481dcd32cd1adb45462fa3448719e8ac38ada6166aca"
    },
    "kernelspec": {
      "display_name": "Python 3.6.10 64-bit ('tensorflow2_p36': conda)",
      "name": "python3"
    },
    "language_info": {
      "codemirror_mode": {
        "name": "ipython",
        "version": 3
      },
      "file_extension": ".py",
      "mimetype": "text/x-python",
      "name": "python",
      "nbconvert_exporter": "python",
      "pygments_lexer": "ipython3",
      "version": "3.6.10"
    },
    "widgets": {
      "application/vnd.jupyter.widget-state+json": {
        "b525d52d772640b4978ead68ceaa01c5": {
          "model_module": "@jupyter-widgets/controls",
          "model_name": "HBoxModel",
          "model_module_version": "1.5.0",
          "state": {
            "_dom_classes": [],
            "_model_module": "@jupyter-widgets/controls",
            "_model_module_version": "1.5.0",
            "_model_name": "HBoxModel",
            "_view_count": null,
            "_view_module": "@jupyter-widgets/controls",
            "_view_module_version": "1.5.0",
            "_view_name": "HBoxView",
            "box_style": "",
            "children": [
              "IPY_MODEL_3019fe207bb64d5a8cb2aea73fa4b8b2",
              "IPY_MODEL_9d5918d57847409cb3a16f930e56bb79",
              "IPY_MODEL_99a3da0379fe479691959c364e17427a"
            ],
            "layout": "IPY_MODEL_9651c4e51bba4e86b81ee2af34649971"
          }
        },
        "3019fe207bb64d5a8cb2aea73fa4b8b2": {
          "model_module": "@jupyter-widgets/controls",
          "model_name": "HTMLModel",
          "model_module_version": "1.5.0",
          "state": {
            "_dom_classes": [],
            "_model_module": "@jupyter-widgets/controls",
            "_model_module_version": "1.5.0",
            "_model_name": "HTMLModel",
            "_view_count": null,
            "_view_module": "@jupyter-widgets/controls",
            "_view_module_version": "1.5.0",
            "_view_name": "HTMLView",
            "description": "",
            "description_tooltip": null,
            "layout": "IPY_MODEL_9a4c34057930439abf2954cbc4a2d8c0",
            "placeholder": "​",
            "style": "IPY_MODEL_0d42b38064fa4a71a8425ad2f28624fc",
            "value": "config.json: 100%"
          }
        },
        "9d5918d57847409cb3a16f930e56bb79": {
          "model_module": "@jupyter-widgets/controls",
          "model_name": "FloatProgressModel",
          "model_module_version": "1.5.0",
          "state": {
            "_dom_classes": [],
            "_model_module": "@jupyter-widgets/controls",
            "_model_module_version": "1.5.0",
            "_model_name": "FloatProgressModel",
            "_view_count": null,
            "_view_module": "@jupyter-widgets/controls",
            "_view_module_version": "1.5.0",
            "_view_name": "ProgressView",
            "bar_style": "success",
            "description": "",
            "description_tooltip": null,
            "layout": "IPY_MODEL_ac9fd8db077d496e9681d9cd33abba85",
            "max": 1585,
            "min": 0,
            "orientation": "horizontal",
            "style": "IPY_MODEL_945c64d0c7c74ffa912be160f55c47b9",
            "value": 1585
          }
        },
        "99a3da0379fe479691959c364e17427a": {
          "model_module": "@jupyter-widgets/controls",
          "model_name": "HTMLModel",
          "model_module_version": "1.5.0",
          "state": {
            "_dom_classes": [],
            "_model_module": "@jupyter-widgets/controls",
            "_model_module_version": "1.5.0",
            "_model_name": "HTMLModel",
            "_view_count": null,
            "_view_module": "@jupyter-widgets/controls",
            "_view_module_version": "1.5.0",
            "_view_name": "HTMLView",
            "description": "",
            "description_tooltip": null,
            "layout": "IPY_MODEL_d09ea13353b34dda8aef35492d3e07f6",
            "placeholder": "​",
            "style": "IPY_MODEL_01e9360a3c57492ca4bfba3f83cc211f",
            "value": " 1.58k/1.58k [00:00&lt;00:00, 73.9kB/s]"
          }
        },
        "9651c4e51bba4e86b81ee2af34649971": {
          "model_module": "@jupyter-widgets/base",
          "model_name": "LayoutModel",
          "model_module_version": "1.2.0",
          "state": {
            "_model_module": "@jupyter-widgets/base",
            "_model_module_version": "1.2.0",
            "_model_name": "LayoutModel",
            "_view_count": null,
            "_view_module": "@jupyter-widgets/base",
            "_view_module_version": "1.2.0",
            "_view_name": "LayoutView",
            "align_content": null,
            "align_items": null,
            "align_self": null,
            "border": null,
            "bottom": null,
            "display": null,
            "flex": null,
            "flex_flow": null,
            "grid_area": null,
            "grid_auto_columns": null,
            "grid_auto_flow": null,
            "grid_auto_rows": null,
            "grid_column": null,
            "grid_gap": null,
            "grid_row": null,
            "grid_template_areas": null,
            "grid_template_columns": null,
            "grid_template_rows": null,
            "height": null,
            "justify_content": null,
            "justify_items": null,
            "left": null,
            "margin": null,
            "max_height": null,
            "max_width": null,
            "min_height": null,
            "min_width": null,
            "object_fit": null,
            "object_position": null,
            "order": null,
            "overflow": null,
            "overflow_x": null,
            "overflow_y": null,
            "padding": null,
            "right": null,
            "top": null,
            "visibility": null,
            "width": null
          }
        },
        "9a4c34057930439abf2954cbc4a2d8c0": {
          "model_module": "@jupyter-widgets/base",
          "model_name": "LayoutModel",
          "model_module_version": "1.2.0",
          "state": {
            "_model_module": "@jupyter-widgets/base",
            "_model_module_version": "1.2.0",
            "_model_name": "LayoutModel",
            "_view_count": null,
            "_view_module": "@jupyter-widgets/base",
            "_view_module_version": "1.2.0",
            "_view_name": "LayoutView",
            "align_content": null,
            "align_items": null,
            "align_self": null,
            "border": null,
            "bottom": null,
            "display": null,
            "flex": null,
            "flex_flow": null,
            "grid_area": null,
            "grid_auto_columns": null,
            "grid_auto_flow": null,
            "grid_auto_rows": null,
            "grid_column": null,
            "grid_gap": null,
            "grid_row": null,
            "grid_template_areas": null,
            "grid_template_columns": null,
            "grid_template_rows": null,
            "height": null,
            "justify_content": null,
            "justify_items": null,
            "left": null,
            "margin": null,
            "max_height": null,
            "max_width": null,
            "min_height": null,
            "min_width": null,
            "object_fit": null,
            "object_position": null,
            "order": null,
            "overflow": null,
            "overflow_x": null,
            "overflow_y": null,
            "padding": null,
            "right": null,
            "top": null,
            "visibility": null,
            "width": null
          }
        },
        "0d42b38064fa4a71a8425ad2f28624fc": {
          "model_module": "@jupyter-widgets/controls",
          "model_name": "DescriptionStyleModel",
          "model_module_version": "1.5.0",
          "state": {
            "_model_module": "@jupyter-widgets/controls",
            "_model_module_version": "1.5.0",
            "_model_name": "DescriptionStyleModel",
            "_view_count": null,
            "_view_module": "@jupyter-widgets/base",
            "_view_module_version": "1.2.0",
            "_view_name": "StyleView",
            "description_width": ""
          }
        },
        "ac9fd8db077d496e9681d9cd33abba85": {
          "model_module": "@jupyter-widgets/base",
          "model_name": "LayoutModel",
          "model_module_version": "1.2.0",
          "state": {
            "_model_module": "@jupyter-widgets/base",
            "_model_module_version": "1.2.0",
            "_model_name": "LayoutModel",
            "_view_count": null,
            "_view_module": "@jupyter-widgets/base",
            "_view_module_version": "1.2.0",
            "_view_name": "LayoutView",
            "align_content": null,
            "align_items": null,
            "align_self": null,
            "border": null,
            "bottom": null,
            "display": null,
            "flex": null,
            "flex_flow": null,
            "grid_area": null,
            "grid_auto_columns": null,
            "grid_auto_flow": null,
            "grid_auto_rows": null,
            "grid_column": null,
            "grid_gap": null,
            "grid_row": null,
            "grid_template_areas": null,
            "grid_template_columns": null,
            "grid_template_rows": null,
            "height": null,
            "justify_content": null,
            "justify_items": null,
            "left": null,
            "margin": null,
            "max_height": null,
            "max_width": null,
            "min_height": null,
            "min_width": null,
            "object_fit": null,
            "object_position": null,
            "order": null,
            "overflow": null,
            "overflow_x": null,
            "overflow_y": null,
            "padding": null,
            "right": null,
            "top": null,
            "visibility": null,
            "width": null
          }
        },
        "945c64d0c7c74ffa912be160f55c47b9": {
          "model_module": "@jupyter-widgets/controls",
          "model_name": "ProgressStyleModel",
          "model_module_version": "1.5.0",
          "state": {
            "_model_module": "@jupyter-widgets/controls",
            "_model_module_version": "1.5.0",
            "_model_name": "ProgressStyleModel",
            "_view_count": null,
            "_view_module": "@jupyter-widgets/base",
            "_view_module_version": "1.2.0",
            "_view_name": "StyleView",
            "bar_color": null,
            "description_width": ""
          }
        },
        "d09ea13353b34dda8aef35492d3e07f6": {
          "model_module": "@jupyter-widgets/base",
          "model_name": "LayoutModel",
          "model_module_version": "1.2.0",
          "state": {
            "_model_module": "@jupyter-widgets/base",
            "_model_module_version": "1.2.0",
            "_model_name": "LayoutModel",
            "_view_count": null,
            "_view_module": "@jupyter-widgets/base",
            "_view_module_version": "1.2.0",
            "_view_name": "LayoutView",
            "align_content": null,
            "align_items": null,
            "align_self": null,
            "border": null,
            "bottom": null,
            "display": null,
            "flex": null,
            "flex_flow": null,
            "grid_area": null,
            "grid_auto_columns": null,
            "grid_auto_flow": null,
            "grid_auto_rows": null,
            "grid_column": null,
            "grid_gap": null,
            "grid_row": null,
            "grid_template_areas": null,
            "grid_template_columns": null,
            "grid_template_rows": null,
            "height": null,
            "justify_content": null,
            "justify_items": null,
            "left": null,
            "margin": null,
            "max_height": null,
            "max_width": null,
            "min_height": null,
            "min_width": null,
            "object_fit": null,
            "object_position": null,
            "order": null,
            "overflow": null,
            "overflow_x": null,
            "overflow_y": null,
            "padding": null,
            "right": null,
            "top": null,
            "visibility": null,
            "width": null
          }
        },
        "01e9360a3c57492ca4bfba3f83cc211f": {
          "model_module": "@jupyter-widgets/controls",
          "model_name": "DescriptionStyleModel",
          "model_module_version": "1.5.0",
          "state": {
            "_model_module": "@jupyter-widgets/controls",
            "_model_module_version": "1.5.0",
            "_model_name": "DescriptionStyleModel",
            "_view_count": null,
            "_view_module": "@jupyter-widgets/base",
            "_view_module_version": "1.2.0",
            "_view_name": "StyleView",
            "description_width": ""
          }
        },
        "afdef05918254d3890a59fb0ed1a3cd7": {
          "model_module": "@jupyter-widgets/controls",
          "model_name": "HBoxModel",
          "model_module_version": "1.5.0",
          "state": {
            "_dom_classes": [],
            "_model_module": "@jupyter-widgets/controls",
            "_model_module_version": "1.5.0",
            "_model_name": "HBoxModel",
            "_view_count": null,
            "_view_module": "@jupyter-widgets/controls",
            "_view_module_version": "1.5.0",
            "_view_name": "HBoxView",
            "box_style": "",
            "children": [
              "IPY_MODEL_7ccf008cb16c42008335596b5fdc2c0a",
              "IPY_MODEL_511a016d37bb45fb9e33c7c57c4fd7d0",
              "IPY_MODEL_36392e8d357845709865a75d71aeaa51"
            ],
            "layout": "IPY_MODEL_54716a78638b42e39b59eb7de0543a4c"
          }
        },
        "7ccf008cb16c42008335596b5fdc2c0a": {
          "model_module": "@jupyter-widgets/controls",
          "model_name": "HTMLModel",
          "model_module_version": "1.5.0",
          "state": {
            "_dom_classes": [],
            "_model_module": "@jupyter-widgets/controls",
            "_model_module_version": "1.5.0",
            "_model_name": "HTMLModel",
            "_view_count": null,
            "_view_module": "@jupyter-widgets/controls",
            "_view_module_version": "1.5.0",
            "_view_name": "HTMLView",
            "description": "",
            "description_tooltip": null,
            "layout": "IPY_MODEL_90f63cee911846729ec28d55aa5d9f3e",
            "placeholder": "​",
            "style": "IPY_MODEL_27fbf38997014e0e8fe72f593c1a4e0f",
            "value": "model.safetensors: 100%"
          }
        },
        "511a016d37bb45fb9e33c7c57c4fd7d0": {
          "model_module": "@jupyter-widgets/controls",
          "model_name": "FloatProgressModel",
          "model_module_version": "1.5.0",
          "state": {
            "_dom_classes": [],
            "_model_module": "@jupyter-widgets/controls",
            "_model_module_version": "1.5.0",
            "_model_name": "FloatProgressModel",
            "_view_count": null,
            "_view_module": "@jupyter-widgets/controls",
            "_view_module_version": "1.5.0",
            "_view_name": "ProgressView",
            "bar_style": "success",
            "description": "",
            "description_tooltip": null,
            "layout": "IPY_MODEL_92c343dee4944b01a87da9b89b83db55",
            "max": 1625222120,
            "min": 0,
            "orientation": "horizontal",
            "style": "IPY_MODEL_f11ecc12e3fc48ae8af90dc28d7466c5",
            "value": 1625222120
          }
        },
        "36392e8d357845709865a75d71aeaa51": {
          "model_module": "@jupyter-widgets/controls",
          "model_name": "HTMLModel",
          "model_module_version": "1.5.0",
          "state": {
            "_dom_classes": [],
            "_model_module": "@jupyter-widgets/controls",
            "_model_module_version": "1.5.0",
            "_model_name": "HTMLModel",
            "_view_count": null,
            "_view_module": "@jupyter-widgets/controls",
            "_view_module_version": "1.5.0",
            "_view_name": "HTMLView",
            "description": "",
            "description_tooltip": null,
            "layout": "IPY_MODEL_05a3d41e971747e8b44fafacf6639fac",
            "placeholder": "​",
            "style": "IPY_MODEL_6e00674ffb3642d0b45edfa282900e65",
            "value": " 1.63G/1.63G [00:18&lt;00:00, 106MB/s]"
          }
        },
        "54716a78638b42e39b59eb7de0543a4c": {
          "model_module": "@jupyter-widgets/base",
          "model_name": "LayoutModel",
          "model_module_version": "1.2.0",
          "state": {
            "_model_module": "@jupyter-widgets/base",
            "_model_module_version": "1.2.0",
            "_model_name": "LayoutModel",
            "_view_count": null,
            "_view_module": "@jupyter-widgets/base",
            "_view_module_version": "1.2.0",
            "_view_name": "LayoutView",
            "align_content": null,
            "align_items": null,
            "align_self": null,
            "border": null,
            "bottom": null,
            "display": null,
            "flex": null,
            "flex_flow": null,
            "grid_area": null,
            "grid_auto_columns": null,
            "grid_auto_flow": null,
            "grid_auto_rows": null,
            "grid_column": null,
            "grid_gap": null,
            "grid_row": null,
            "grid_template_areas": null,
            "grid_template_columns": null,
            "grid_template_rows": null,
            "height": null,
            "justify_content": null,
            "justify_items": null,
            "left": null,
            "margin": null,
            "max_height": null,
            "max_width": null,
            "min_height": null,
            "min_width": null,
            "object_fit": null,
            "object_position": null,
            "order": null,
            "overflow": null,
            "overflow_x": null,
            "overflow_y": null,
            "padding": null,
            "right": null,
            "top": null,
            "visibility": null,
            "width": null
          }
        },
        "90f63cee911846729ec28d55aa5d9f3e": {
          "model_module": "@jupyter-widgets/base",
          "model_name": "LayoutModel",
          "model_module_version": "1.2.0",
          "state": {
            "_model_module": "@jupyter-widgets/base",
            "_model_module_version": "1.2.0",
            "_model_name": "LayoutModel",
            "_view_count": null,
            "_view_module": "@jupyter-widgets/base",
            "_view_module_version": "1.2.0",
            "_view_name": "LayoutView",
            "align_content": null,
            "align_items": null,
            "align_self": null,
            "border": null,
            "bottom": null,
            "display": null,
            "flex": null,
            "flex_flow": null,
            "grid_area": null,
            "grid_auto_columns": null,
            "grid_auto_flow": null,
            "grid_auto_rows": null,
            "grid_column": null,
            "grid_gap": null,
            "grid_row": null,
            "grid_template_areas": null,
            "grid_template_columns": null,
            "grid_template_rows": null,
            "height": null,
            "justify_content": null,
            "justify_items": null,
            "left": null,
            "margin": null,
            "max_height": null,
            "max_width": null,
            "min_height": null,
            "min_width": null,
            "object_fit": null,
            "object_position": null,
            "order": null,
            "overflow": null,
            "overflow_x": null,
            "overflow_y": null,
            "padding": null,
            "right": null,
            "top": null,
            "visibility": null,
            "width": null
          }
        },
        "27fbf38997014e0e8fe72f593c1a4e0f": {
          "model_module": "@jupyter-widgets/controls",
          "model_name": "DescriptionStyleModel",
          "model_module_version": "1.5.0",
          "state": {
            "_model_module": "@jupyter-widgets/controls",
            "_model_module_version": "1.5.0",
            "_model_name": "DescriptionStyleModel",
            "_view_count": null,
            "_view_module": "@jupyter-widgets/base",
            "_view_module_version": "1.2.0",
            "_view_name": "StyleView",
            "description_width": ""
          }
        },
        "92c343dee4944b01a87da9b89b83db55": {
          "model_module": "@jupyter-widgets/base",
          "model_name": "LayoutModel",
          "model_module_version": "1.2.0",
          "state": {
            "_model_module": "@jupyter-widgets/base",
            "_model_module_version": "1.2.0",
            "_model_name": "LayoutModel",
            "_view_count": null,
            "_view_module": "@jupyter-widgets/base",
            "_view_module_version": "1.2.0",
            "_view_name": "LayoutView",
            "align_content": null,
            "align_items": null,
            "align_self": null,
            "border": null,
            "bottom": null,
            "display": null,
            "flex": null,
            "flex_flow": null,
            "grid_area": null,
            "grid_auto_columns": null,
            "grid_auto_flow": null,
            "grid_auto_rows": null,
            "grid_column": null,
            "grid_gap": null,
            "grid_row": null,
            "grid_template_areas": null,
            "grid_template_columns": null,
            "grid_template_rows": null,
            "height": null,
            "justify_content": null,
            "justify_items": null,
            "left": null,
            "margin": null,
            "max_height": null,
            "max_width": null,
            "min_height": null,
            "min_width": null,
            "object_fit": null,
            "object_position": null,
            "order": null,
            "overflow": null,
            "overflow_x": null,
            "overflow_y": null,
            "padding": null,
            "right": null,
            "top": null,
            "visibility": null,
            "width": null
          }
        },
        "f11ecc12e3fc48ae8af90dc28d7466c5": {
          "model_module": "@jupyter-widgets/controls",
          "model_name": "ProgressStyleModel",
          "model_module_version": "1.5.0",
          "state": {
            "_model_module": "@jupyter-widgets/controls",
            "_model_module_version": "1.5.0",
            "_model_name": "ProgressStyleModel",
            "_view_count": null,
            "_view_module": "@jupyter-widgets/base",
            "_view_module_version": "1.2.0",
            "_view_name": "StyleView",
            "bar_color": null,
            "description_width": ""
          }
        },
        "05a3d41e971747e8b44fafacf6639fac": {
          "model_module": "@jupyter-widgets/base",
          "model_name": "LayoutModel",
          "model_module_version": "1.2.0",
          "state": {
            "_model_module": "@jupyter-widgets/base",
            "_model_module_version": "1.2.0",
            "_model_name": "LayoutModel",
            "_view_count": null,
            "_view_module": "@jupyter-widgets/base",
            "_view_module_version": "1.2.0",
            "_view_name": "LayoutView",
            "align_content": null,
            "align_items": null,
            "align_self": null,
            "border": null,
            "bottom": null,
            "display": null,
            "flex": null,
            "flex_flow": null,
            "grid_area": null,
            "grid_auto_columns": null,
            "grid_auto_flow": null,
            "grid_auto_rows": null,
            "grid_column": null,
            "grid_gap": null,
            "grid_row": null,
            "grid_template_areas": null,
            "grid_template_columns": null,
            "grid_template_rows": null,
            "height": null,
            "justify_content": null,
            "justify_items": null,
            "left": null,
            "margin": null,
            "max_height": null,
            "max_width": null,
            "min_height": null,
            "min_width": null,
            "object_fit": null,
            "object_position": null,
            "order": null,
            "overflow": null,
            "overflow_x": null,
            "overflow_y": null,
            "padding": null,
            "right": null,
            "top": null,
            "visibility": null,
            "width": null
          }
        },
        "6e00674ffb3642d0b45edfa282900e65": {
          "model_module": "@jupyter-widgets/controls",
          "model_name": "DescriptionStyleModel",
          "model_module_version": "1.5.0",
          "state": {
            "_model_module": "@jupyter-widgets/controls",
            "_model_module_version": "1.5.0",
            "_model_name": "DescriptionStyleModel",
            "_view_count": null,
            "_view_module": "@jupyter-widgets/base",
            "_view_module_version": "1.2.0",
            "_view_name": "StyleView",
            "description_width": ""
          }
        },
        "19ee9b27efa247c8a7765f94cd687ad8": {
          "model_module": "@jupyter-widgets/controls",
          "model_name": "HBoxModel",
          "model_module_version": "1.5.0",
          "state": {
            "_dom_classes": [],
            "_model_module": "@jupyter-widgets/controls",
            "_model_module_version": "1.5.0",
            "_model_name": "HBoxModel",
            "_view_count": null,
            "_view_module": "@jupyter-widgets/controls",
            "_view_module_version": "1.5.0",
            "_view_name": "HBoxView",
            "box_style": "",
            "children": [
              "IPY_MODEL_4bfaa873c18b49e2a37cea6a945661a5",
              "IPY_MODEL_6f882d62a2c54f5392a25ec4eabadfa1",
              "IPY_MODEL_04518d4d5d6046a8b0f518f5c6e5a35f"
            ],
            "layout": "IPY_MODEL_76d2d5cb3a2a4ec9a780db04b0b3ee14"
          }
        },
        "4bfaa873c18b49e2a37cea6a945661a5": {
          "model_module": "@jupyter-widgets/controls",
          "model_name": "HTMLModel",
          "model_module_version": "1.5.0",
          "state": {
            "_dom_classes": [],
            "_model_module": "@jupyter-widgets/controls",
            "_model_module_version": "1.5.0",
            "_model_name": "HTMLModel",
            "_view_count": null,
            "_view_module": "@jupyter-widgets/controls",
            "_view_module_version": "1.5.0",
            "_view_name": "HTMLView",
            "description": "",
            "description_tooltip": null,
            "layout": "IPY_MODEL_a38a57cfac204fbf97f487fa541a49b7",
            "placeholder": "​",
            "style": "IPY_MODEL_4eafd49d850d4c64a99af70ea2dc95f8",
            "value": "generation_config.json: 100%"
          }
        },
        "6f882d62a2c54f5392a25ec4eabadfa1": {
          "model_module": "@jupyter-widgets/controls",
          "model_name": "FloatProgressModel",
          "model_module_version": "1.5.0",
          "state": {
            "_dom_classes": [],
            "_model_module": "@jupyter-widgets/controls",
            "_model_module_version": "1.5.0",
            "_model_name": "FloatProgressModel",
            "_view_count": null,
            "_view_module": "@jupyter-widgets/controls",
            "_view_module_version": "1.5.0",
            "_view_name": "ProgressView",
            "bar_style": "success",
            "description": "",
            "description_tooltip": null,
            "layout": "IPY_MODEL_3424ff031d6741d3a61fb5d39005c93f",
            "max": 363,
            "min": 0,
            "orientation": "horizontal",
            "style": "IPY_MODEL_c8a17369f0d642d8ba9b1aba4f463b3a",
            "value": 363
          }
        },
        "04518d4d5d6046a8b0f518f5c6e5a35f": {
          "model_module": "@jupyter-widgets/controls",
          "model_name": "HTMLModel",
          "model_module_version": "1.5.0",
          "state": {
            "_dom_classes": [],
            "_model_module": "@jupyter-widgets/controls",
            "_model_module_version": "1.5.0",
            "_model_name": "HTMLModel",
            "_view_count": null,
            "_view_module": "@jupyter-widgets/controls",
            "_view_module_version": "1.5.0",
            "_view_name": "HTMLView",
            "description": "",
            "description_tooltip": null,
            "layout": "IPY_MODEL_094b219a1f994c33967aa2df5957b856",
            "placeholder": "​",
            "style": "IPY_MODEL_1c149fd20b7c46e083c6a56003307f06",
            "value": " 363/363 [00:00&lt;00:00, 12.7kB/s]"
          }
        },
        "76d2d5cb3a2a4ec9a780db04b0b3ee14": {
          "model_module": "@jupyter-widgets/base",
          "model_name": "LayoutModel",
          "model_module_version": "1.2.0",
          "state": {
            "_model_module": "@jupyter-widgets/base",
            "_model_module_version": "1.2.0",
            "_model_name": "LayoutModel",
            "_view_count": null,
            "_view_module": "@jupyter-widgets/base",
            "_view_module_version": "1.2.0",
            "_view_name": "LayoutView",
            "align_content": null,
            "align_items": null,
            "align_self": null,
            "border": null,
            "bottom": null,
            "display": null,
            "flex": null,
            "flex_flow": null,
            "grid_area": null,
            "grid_auto_columns": null,
            "grid_auto_flow": null,
            "grid_auto_rows": null,
            "grid_column": null,
            "grid_gap": null,
            "grid_row": null,
            "grid_template_areas": null,
            "grid_template_columns": null,
            "grid_template_rows": null,
            "height": null,
            "justify_content": null,
            "justify_items": null,
            "left": null,
            "margin": null,
            "max_height": null,
            "max_width": null,
            "min_height": null,
            "min_width": null,
            "object_fit": null,
            "object_position": null,
            "order": null,
            "overflow": null,
            "overflow_x": null,
            "overflow_y": null,
            "padding": null,
            "right": null,
            "top": null,
            "visibility": null,
            "width": null
          }
        },
        "a38a57cfac204fbf97f487fa541a49b7": {
          "model_module": "@jupyter-widgets/base",
          "model_name": "LayoutModel",
          "model_module_version": "1.2.0",
          "state": {
            "_model_module": "@jupyter-widgets/base",
            "_model_module_version": "1.2.0",
            "_model_name": "LayoutModel",
            "_view_count": null,
            "_view_module": "@jupyter-widgets/base",
            "_view_module_version": "1.2.0",
            "_view_name": "LayoutView",
            "align_content": null,
            "align_items": null,
            "align_self": null,
            "border": null,
            "bottom": null,
            "display": null,
            "flex": null,
            "flex_flow": null,
            "grid_area": null,
            "grid_auto_columns": null,
            "grid_auto_flow": null,
            "grid_auto_rows": null,
            "grid_column": null,
            "grid_gap": null,
            "grid_row": null,
            "grid_template_areas": null,
            "grid_template_columns": null,
            "grid_template_rows": null,
            "height": null,
            "justify_content": null,
            "justify_items": null,
            "left": null,
            "margin": null,
            "max_height": null,
            "max_width": null,
            "min_height": null,
            "min_width": null,
            "object_fit": null,
            "object_position": null,
            "order": null,
            "overflow": null,
            "overflow_x": null,
            "overflow_y": null,
            "padding": null,
            "right": null,
            "top": null,
            "visibility": null,
            "width": null
          }
        },
        "4eafd49d850d4c64a99af70ea2dc95f8": {
          "model_module": "@jupyter-widgets/controls",
          "model_name": "DescriptionStyleModel",
          "model_module_version": "1.5.0",
          "state": {
            "_model_module": "@jupyter-widgets/controls",
            "_model_module_version": "1.5.0",
            "_model_name": "DescriptionStyleModel",
            "_view_count": null,
            "_view_module": "@jupyter-widgets/base",
            "_view_module_version": "1.2.0",
            "_view_name": "StyleView",
            "description_width": ""
          }
        },
        "3424ff031d6741d3a61fb5d39005c93f": {
          "model_module": "@jupyter-widgets/base",
          "model_name": "LayoutModel",
          "model_module_version": "1.2.0",
          "state": {
            "_model_module": "@jupyter-widgets/base",
            "_model_module_version": "1.2.0",
            "_model_name": "LayoutModel",
            "_view_count": null,
            "_view_module": "@jupyter-widgets/base",
            "_view_module_version": "1.2.0",
            "_view_name": "LayoutView",
            "align_content": null,
            "align_items": null,
            "align_self": null,
            "border": null,
            "bottom": null,
            "display": null,
            "flex": null,
            "flex_flow": null,
            "grid_area": null,
            "grid_auto_columns": null,
            "grid_auto_flow": null,
            "grid_auto_rows": null,
            "grid_column": null,
            "grid_gap": null,
            "grid_row": null,
            "grid_template_areas": null,
            "grid_template_columns": null,
            "grid_template_rows": null,
            "height": null,
            "justify_content": null,
            "justify_items": null,
            "left": null,
            "margin": null,
            "max_height": null,
            "max_width": null,
            "min_height": null,
            "min_width": null,
            "object_fit": null,
            "object_position": null,
            "order": null,
            "overflow": null,
            "overflow_x": null,
            "overflow_y": null,
            "padding": null,
            "right": null,
            "top": null,
            "visibility": null,
            "width": null
          }
        },
        "c8a17369f0d642d8ba9b1aba4f463b3a": {
          "model_module": "@jupyter-widgets/controls",
          "model_name": "ProgressStyleModel",
          "model_module_version": "1.5.0",
          "state": {
            "_model_module": "@jupyter-widgets/controls",
            "_model_module_version": "1.5.0",
            "_model_name": "ProgressStyleModel",
            "_view_count": null,
            "_view_module": "@jupyter-widgets/base",
            "_view_module_version": "1.2.0",
            "_view_name": "StyleView",
            "bar_color": null,
            "description_width": ""
          }
        },
        "094b219a1f994c33967aa2df5957b856": {
          "model_module": "@jupyter-widgets/base",
          "model_name": "LayoutModel",
          "model_module_version": "1.2.0",
          "state": {
            "_model_module": "@jupyter-widgets/base",
            "_model_module_version": "1.2.0",
            "_model_name": "LayoutModel",
            "_view_count": null,
            "_view_module": "@jupyter-widgets/base",
            "_view_module_version": "1.2.0",
            "_view_name": "LayoutView",
            "align_content": null,
            "align_items": null,
            "align_self": null,
            "border": null,
            "bottom": null,
            "display": null,
            "flex": null,
            "flex_flow": null,
            "grid_area": null,
            "grid_auto_columns": null,
            "grid_auto_flow": null,
            "grid_auto_rows": null,
            "grid_column": null,
            "grid_gap": null,
            "grid_row": null,
            "grid_template_areas": null,
            "grid_template_columns": null,
            "grid_template_rows": null,
            "height": null,
            "justify_content": null,
            "justify_items": null,
            "left": null,
            "margin": null,
            "max_height": null,
            "max_width": null,
            "min_height": null,
            "min_width": null,
            "object_fit": null,
            "object_position": null,
            "order": null,
            "overflow": null,
            "overflow_x": null,
            "overflow_y": null,
            "padding": null,
            "right": null,
            "top": null,
            "visibility": null,
            "width": null
          }
        },
        "1c149fd20b7c46e083c6a56003307f06": {
          "model_module": "@jupyter-widgets/controls",
          "model_name": "DescriptionStyleModel",
          "model_module_version": "1.5.0",
          "state": {
            "_model_module": "@jupyter-widgets/controls",
            "_model_module_version": "1.5.0",
            "_model_name": "DescriptionStyleModel",
            "_view_count": null,
            "_view_module": "@jupyter-widgets/base",
            "_view_module_version": "1.2.0",
            "_view_name": "StyleView",
            "description_width": ""
          }
        },
        "0bc883b24db744f79712ee01b3ebb0c4": {
          "model_module": "@jupyter-widgets/controls",
          "model_name": "HBoxModel",
          "model_module_version": "1.5.0",
          "state": {
            "_dom_classes": [],
            "_model_module": "@jupyter-widgets/controls",
            "_model_module_version": "1.5.0",
            "_model_name": "HBoxModel",
            "_view_count": null,
            "_view_module": "@jupyter-widgets/controls",
            "_view_module_version": "1.5.0",
            "_view_name": "HBoxView",
            "box_style": "",
            "children": [
              "IPY_MODEL_359db345767442608563fa5b7a06db68",
              "IPY_MODEL_d9fa6efe60974df38514448ecffc632d",
              "IPY_MODEL_dca4a40ec8a2405aa7b13a232630aed2"
            ],
            "layout": "IPY_MODEL_036e6d4119b64b91beefc8781776d755"
          }
        },
        "359db345767442608563fa5b7a06db68": {
          "model_module": "@jupyter-widgets/controls",
          "model_name": "HTMLModel",
          "model_module_version": "1.5.0",
          "state": {
            "_dom_classes": [],
            "_model_module": "@jupyter-widgets/controls",
            "_model_module_version": "1.5.0",
            "_model_name": "HTMLModel",
            "_view_count": null,
            "_view_module": "@jupyter-widgets/controls",
            "_view_module_version": "1.5.0",
            "_view_name": "HTMLView",
            "description": "",
            "description_tooltip": null,
            "layout": "IPY_MODEL_8225f0b5d4084be8b746c3ecf0e10b07",
            "placeholder": "​",
            "style": "IPY_MODEL_18d101a09b6e447c8fa0f43906e6a5e6",
            "value": "vocab.json: 100%"
          }
        },
        "d9fa6efe60974df38514448ecffc632d": {
          "model_module": "@jupyter-widgets/controls",
          "model_name": "FloatProgressModel",
          "model_module_version": "1.5.0",
          "state": {
            "_dom_classes": [],
            "_model_module": "@jupyter-widgets/controls",
            "_model_module_version": "1.5.0",
            "_model_name": "FloatProgressModel",
            "_view_count": null,
            "_view_module": "@jupyter-widgets/controls",
            "_view_module_version": "1.5.0",
            "_view_name": "ProgressView",
            "bar_style": "success",
            "description": "",
            "description_tooltip": null,
            "layout": "IPY_MODEL_921e5b7a84a84781b1cd425251c84a5a",
            "max": 898823,
            "min": 0,
            "orientation": "horizontal",
            "style": "IPY_MODEL_06c329b2c6f94450868243e5cdf1c7be",
            "value": 898823
          }
        },
        "dca4a40ec8a2405aa7b13a232630aed2": {
          "model_module": "@jupyter-widgets/controls",
          "model_name": "HTMLModel",
          "model_module_version": "1.5.0",
          "state": {
            "_dom_classes": [],
            "_model_module": "@jupyter-widgets/controls",
            "_model_module_version": "1.5.0",
            "_model_name": "HTMLModel",
            "_view_count": null,
            "_view_module": "@jupyter-widgets/controls",
            "_view_module_version": "1.5.0",
            "_view_name": "HTMLView",
            "description": "",
            "description_tooltip": null,
            "layout": "IPY_MODEL_6eb508432b2d42978c74530d2de57544",
            "placeholder": "​",
            "style": "IPY_MODEL_5939fc5a3ed6450a856ae6d5bef12a1a",
            "value": " 899k/899k [00:00&lt;00:00, 2.73MB/s]"
          }
        },
        "036e6d4119b64b91beefc8781776d755": {
          "model_module": "@jupyter-widgets/base",
          "model_name": "LayoutModel",
          "model_module_version": "1.2.0",
          "state": {
            "_model_module": "@jupyter-widgets/base",
            "_model_module_version": "1.2.0",
            "_model_name": "LayoutModel",
            "_view_count": null,
            "_view_module": "@jupyter-widgets/base",
            "_view_module_version": "1.2.0",
            "_view_name": "LayoutView",
            "align_content": null,
            "align_items": null,
            "align_self": null,
            "border": null,
            "bottom": null,
            "display": null,
            "flex": null,
            "flex_flow": null,
            "grid_area": null,
            "grid_auto_columns": null,
            "grid_auto_flow": null,
            "grid_auto_rows": null,
            "grid_column": null,
            "grid_gap": null,
            "grid_row": null,
            "grid_template_areas": null,
            "grid_template_columns": null,
            "grid_template_rows": null,
            "height": null,
            "justify_content": null,
            "justify_items": null,
            "left": null,
            "margin": null,
            "max_height": null,
            "max_width": null,
            "min_height": null,
            "min_width": null,
            "object_fit": null,
            "object_position": null,
            "order": null,
            "overflow": null,
            "overflow_x": null,
            "overflow_y": null,
            "padding": null,
            "right": null,
            "top": null,
            "visibility": null,
            "width": null
          }
        },
        "8225f0b5d4084be8b746c3ecf0e10b07": {
          "model_module": "@jupyter-widgets/base",
          "model_name": "LayoutModel",
          "model_module_version": "1.2.0",
          "state": {
            "_model_module": "@jupyter-widgets/base",
            "_model_module_version": "1.2.0",
            "_model_name": "LayoutModel",
            "_view_count": null,
            "_view_module": "@jupyter-widgets/base",
            "_view_module_version": "1.2.0",
            "_view_name": "LayoutView",
            "align_content": null,
            "align_items": null,
            "align_self": null,
            "border": null,
            "bottom": null,
            "display": null,
            "flex": null,
            "flex_flow": null,
            "grid_area": null,
            "grid_auto_columns": null,
            "grid_auto_flow": null,
            "grid_auto_rows": null,
            "grid_column": null,
            "grid_gap": null,
            "grid_row": null,
            "grid_template_areas": null,
            "grid_template_columns": null,
            "grid_template_rows": null,
            "height": null,
            "justify_content": null,
            "justify_items": null,
            "left": null,
            "margin": null,
            "max_height": null,
            "max_width": null,
            "min_height": null,
            "min_width": null,
            "object_fit": null,
            "object_position": null,
            "order": null,
            "overflow": null,
            "overflow_x": null,
            "overflow_y": null,
            "padding": null,
            "right": null,
            "top": null,
            "visibility": null,
            "width": null
          }
        },
        "18d101a09b6e447c8fa0f43906e6a5e6": {
          "model_module": "@jupyter-widgets/controls",
          "model_name": "DescriptionStyleModel",
          "model_module_version": "1.5.0",
          "state": {
            "_model_module": "@jupyter-widgets/controls",
            "_model_module_version": "1.5.0",
            "_model_name": "DescriptionStyleModel",
            "_view_count": null,
            "_view_module": "@jupyter-widgets/base",
            "_view_module_version": "1.2.0",
            "_view_name": "StyleView",
            "description_width": ""
          }
        },
        "921e5b7a84a84781b1cd425251c84a5a": {
          "model_module": "@jupyter-widgets/base",
          "model_name": "LayoutModel",
          "model_module_version": "1.2.0",
          "state": {
            "_model_module": "@jupyter-widgets/base",
            "_model_module_version": "1.2.0",
            "_model_name": "LayoutModel",
            "_view_count": null,
            "_view_module": "@jupyter-widgets/base",
            "_view_module_version": "1.2.0",
            "_view_name": "LayoutView",
            "align_content": null,
            "align_items": null,
            "align_self": null,
            "border": null,
            "bottom": null,
            "display": null,
            "flex": null,
            "flex_flow": null,
            "grid_area": null,
            "grid_auto_columns": null,
            "grid_auto_flow": null,
            "grid_auto_rows": null,
            "grid_column": null,
            "grid_gap": null,
            "grid_row": null,
            "grid_template_areas": null,
            "grid_template_columns": null,
            "grid_template_rows": null,
            "height": null,
            "justify_content": null,
            "justify_items": null,
            "left": null,
            "margin": null,
            "max_height": null,
            "max_width": null,
            "min_height": null,
            "min_width": null,
            "object_fit": null,
            "object_position": null,
            "order": null,
            "overflow": null,
            "overflow_x": null,
            "overflow_y": null,
            "padding": null,
            "right": null,
            "top": null,
            "visibility": null,
            "width": null
          }
        },
        "06c329b2c6f94450868243e5cdf1c7be": {
          "model_module": "@jupyter-widgets/controls",
          "model_name": "ProgressStyleModel",
          "model_module_version": "1.5.0",
          "state": {
            "_model_module": "@jupyter-widgets/controls",
            "_model_module_version": "1.5.0",
            "_model_name": "ProgressStyleModel",
            "_view_count": null,
            "_view_module": "@jupyter-widgets/base",
            "_view_module_version": "1.2.0",
            "_view_name": "StyleView",
            "bar_color": null,
            "description_width": ""
          }
        },
        "6eb508432b2d42978c74530d2de57544": {
          "model_module": "@jupyter-widgets/base",
          "model_name": "LayoutModel",
          "model_module_version": "1.2.0",
          "state": {
            "_model_module": "@jupyter-widgets/base",
            "_model_module_version": "1.2.0",
            "_model_name": "LayoutModel",
            "_view_count": null,
            "_view_module": "@jupyter-widgets/base",
            "_view_module_version": "1.2.0",
            "_view_name": "LayoutView",
            "align_content": null,
            "align_items": null,
            "align_self": null,
            "border": null,
            "bottom": null,
            "display": null,
            "flex": null,
            "flex_flow": null,
            "grid_area": null,
            "grid_auto_columns": null,
            "grid_auto_flow": null,
            "grid_auto_rows": null,
            "grid_column": null,
            "grid_gap": null,
            "grid_row": null,
            "grid_template_areas": null,
            "grid_template_columns": null,
            "grid_template_rows": null,
            "height": null,
            "justify_content": null,
            "justify_items": null,
            "left": null,
            "margin": null,
            "max_height": null,
            "max_width": null,
            "min_height": null,
            "min_width": null,
            "object_fit": null,
            "object_position": null,
            "order": null,
            "overflow": null,
            "overflow_x": null,
            "overflow_y": null,
            "padding": null,
            "right": null,
            "top": null,
            "visibility": null,
            "width": null
          }
        },
        "5939fc5a3ed6450a856ae6d5bef12a1a": {
          "model_module": "@jupyter-widgets/controls",
          "model_name": "DescriptionStyleModel",
          "model_module_version": "1.5.0",
          "state": {
            "_model_module": "@jupyter-widgets/controls",
            "_model_module_version": "1.5.0",
            "_model_name": "DescriptionStyleModel",
            "_view_count": null,
            "_view_module": "@jupyter-widgets/base",
            "_view_module_version": "1.2.0",
            "_view_name": "StyleView",
            "description_width": ""
          }
        },
        "bf7f160cad574c0980e985c89eba84a5": {
          "model_module": "@jupyter-widgets/controls",
          "model_name": "HBoxModel",
          "model_module_version": "1.5.0",
          "state": {
            "_dom_classes": [],
            "_model_module": "@jupyter-widgets/controls",
            "_model_module_version": "1.5.0",
            "_model_name": "HBoxModel",
            "_view_count": null,
            "_view_module": "@jupyter-widgets/controls",
            "_view_module_version": "1.5.0",
            "_view_name": "HBoxView",
            "box_style": "",
            "children": [
              "IPY_MODEL_de26fcdf889f4d9193cf7889826d5187",
              "IPY_MODEL_b328a65659ab4bcbae753ca8d201c705",
              "IPY_MODEL_45f5b124d33b42dfa42e1cf531cd58e2"
            ],
            "layout": "IPY_MODEL_576d9cf943874fe39540741a0469e88f"
          }
        },
        "de26fcdf889f4d9193cf7889826d5187": {
          "model_module": "@jupyter-widgets/controls",
          "model_name": "HTMLModel",
          "model_module_version": "1.5.0",
          "state": {
            "_dom_classes": [],
            "_model_module": "@jupyter-widgets/controls",
            "_model_module_version": "1.5.0",
            "_model_name": "HTMLModel",
            "_view_count": null,
            "_view_module": "@jupyter-widgets/controls",
            "_view_module_version": "1.5.0",
            "_view_name": "HTMLView",
            "description": "",
            "description_tooltip": null,
            "layout": "IPY_MODEL_eb71f9c61d624f4d8af8bdd545a4d413",
            "placeholder": "​",
            "style": "IPY_MODEL_1f263cbc9f774da6b477066193d22adf",
            "value": "merges.txt: 100%"
          }
        },
        "b328a65659ab4bcbae753ca8d201c705": {
          "model_module": "@jupyter-widgets/controls",
          "model_name": "FloatProgressModel",
          "model_module_version": "1.5.0",
          "state": {
            "_dom_classes": [],
            "_model_module": "@jupyter-widgets/controls",
            "_model_module_version": "1.5.0",
            "_model_name": "FloatProgressModel",
            "_view_count": null,
            "_view_module": "@jupyter-widgets/controls",
            "_view_module_version": "1.5.0",
            "_view_name": "ProgressView",
            "bar_style": "success",
            "description": "",
            "description_tooltip": null,
            "layout": "IPY_MODEL_e020e23c641d4980827e185887322d76",
            "max": 456318,
            "min": 0,
            "orientation": "horizontal",
            "style": "IPY_MODEL_484086c0ccfa483bb7803ecac9f773ca",
            "value": 456318
          }
        },
        "45f5b124d33b42dfa42e1cf531cd58e2": {
          "model_module": "@jupyter-widgets/controls",
          "model_name": "HTMLModel",
          "model_module_version": "1.5.0",
          "state": {
            "_dom_classes": [],
            "_model_module": "@jupyter-widgets/controls",
            "_model_module_version": "1.5.0",
            "_model_name": "HTMLModel",
            "_view_count": null,
            "_view_module": "@jupyter-widgets/controls",
            "_view_module_version": "1.5.0",
            "_view_name": "HTMLView",
            "description": "",
            "description_tooltip": null,
            "layout": "IPY_MODEL_f897fb5463a849be94030444008b9f24",
            "placeholder": "​",
            "style": "IPY_MODEL_8948445f9c3746f0b359b279df7c02e0",
            "value": " 456k/456k [00:00&lt;00:00, 1.87MB/s]"
          }
        },
        "576d9cf943874fe39540741a0469e88f": {
          "model_module": "@jupyter-widgets/base",
          "model_name": "LayoutModel",
          "model_module_version": "1.2.0",
          "state": {
            "_model_module": "@jupyter-widgets/base",
            "_model_module_version": "1.2.0",
            "_model_name": "LayoutModel",
            "_view_count": null,
            "_view_module": "@jupyter-widgets/base",
            "_view_module_version": "1.2.0",
            "_view_name": "LayoutView",
            "align_content": null,
            "align_items": null,
            "align_self": null,
            "border": null,
            "bottom": null,
            "display": null,
            "flex": null,
            "flex_flow": null,
            "grid_area": null,
            "grid_auto_columns": null,
            "grid_auto_flow": null,
            "grid_auto_rows": null,
            "grid_column": null,
            "grid_gap": null,
            "grid_row": null,
            "grid_template_areas": null,
            "grid_template_columns": null,
            "grid_template_rows": null,
            "height": null,
            "justify_content": null,
            "justify_items": null,
            "left": null,
            "margin": null,
            "max_height": null,
            "max_width": null,
            "min_height": null,
            "min_width": null,
            "object_fit": null,
            "object_position": null,
            "order": null,
            "overflow": null,
            "overflow_x": null,
            "overflow_y": null,
            "padding": null,
            "right": null,
            "top": null,
            "visibility": null,
            "width": null
          }
        },
        "eb71f9c61d624f4d8af8bdd545a4d413": {
          "model_module": "@jupyter-widgets/base",
          "model_name": "LayoutModel",
          "model_module_version": "1.2.0",
          "state": {
            "_model_module": "@jupyter-widgets/base",
            "_model_module_version": "1.2.0",
            "_model_name": "LayoutModel",
            "_view_count": null,
            "_view_module": "@jupyter-widgets/base",
            "_view_module_version": "1.2.0",
            "_view_name": "LayoutView",
            "align_content": null,
            "align_items": null,
            "align_self": null,
            "border": null,
            "bottom": null,
            "display": null,
            "flex": null,
            "flex_flow": null,
            "grid_area": null,
            "grid_auto_columns": null,
            "grid_auto_flow": null,
            "grid_auto_rows": null,
            "grid_column": null,
            "grid_gap": null,
            "grid_row": null,
            "grid_template_areas": null,
            "grid_template_columns": null,
            "grid_template_rows": null,
            "height": null,
            "justify_content": null,
            "justify_items": null,
            "left": null,
            "margin": null,
            "max_height": null,
            "max_width": null,
            "min_height": null,
            "min_width": null,
            "object_fit": null,
            "object_position": null,
            "order": null,
            "overflow": null,
            "overflow_x": null,
            "overflow_y": null,
            "padding": null,
            "right": null,
            "top": null,
            "visibility": null,
            "width": null
          }
        },
        "1f263cbc9f774da6b477066193d22adf": {
          "model_module": "@jupyter-widgets/controls",
          "model_name": "DescriptionStyleModel",
          "model_module_version": "1.5.0",
          "state": {
            "_model_module": "@jupyter-widgets/controls",
            "_model_module_version": "1.5.0",
            "_model_name": "DescriptionStyleModel",
            "_view_count": null,
            "_view_module": "@jupyter-widgets/base",
            "_view_module_version": "1.2.0",
            "_view_name": "StyleView",
            "description_width": ""
          }
        },
        "e020e23c641d4980827e185887322d76": {
          "model_module": "@jupyter-widgets/base",
          "model_name": "LayoutModel",
          "model_module_version": "1.2.0",
          "state": {
            "_model_module": "@jupyter-widgets/base",
            "_model_module_version": "1.2.0",
            "_model_name": "LayoutModel",
            "_view_count": null,
            "_view_module": "@jupyter-widgets/base",
            "_view_module_version": "1.2.0",
            "_view_name": "LayoutView",
            "align_content": null,
            "align_items": null,
            "align_self": null,
            "border": null,
            "bottom": null,
            "display": null,
            "flex": null,
            "flex_flow": null,
            "grid_area": null,
            "grid_auto_columns": null,
            "grid_auto_flow": null,
            "grid_auto_rows": null,
            "grid_column": null,
            "grid_gap": null,
            "grid_row": null,
            "grid_template_areas": null,
            "grid_template_columns": null,
            "grid_template_rows": null,
            "height": null,
            "justify_content": null,
            "justify_items": null,
            "left": null,
            "margin": null,
            "max_height": null,
            "max_width": null,
            "min_height": null,
            "min_width": null,
            "object_fit": null,
            "object_position": null,
            "order": null,
            "overflow": null,
            "overflow_x": null,
            "overflow_y": null,
            "padding": null,
            "right": null,
            "top": null,
            "visibility": null,
            "width": null
          }
        },
        "484086c0ccfa483bb7803ecac9f773ca": {
          "model_module": "@jupyter-widgets/controls",
          "model_name": "ProgressStyleModel",
          "model_module_version": "1.5.0",
          "state": {
            "_model_module": "@jupyter-widgets/controls",
            "_model_module_version": "1.5.0",
            "_model_name": "ProgressStyleModel",
            "_view_count": null,
            "_view_module": "@jupyter-widgets/base",
            "_view_module_version": "1.2.0",
            "_view_name": "StyleView",
            "bar_color": null,
            "description_width": ""
          }
        },
        "f897fb5463a849be94030444008b9f24": {
          "model_module": "@jupyter-widgets/base",
          "model_name": "LayoutModel",
          "model_module_version": "1.2.0",
          "state": {
            "_model_module": "@jupyter-widgets/base",
            "_model_module_version": "1.2.0",
            "_model_name": "LayoutModel",
            "_view_count": null,
            "_view_module": "@jupyter-widgets/base",
            "_view_module_version": "1.2.0",
            "_view_name": "LayoutView",
            "align_content": null,
            "align_items": null,
            "align_self": null,
            "border": null,
            "bottom": null,
            "display": null,
            "flex": null,
            "flex_flow": null,
            "grid_area": null,
            "grid_auto_columns": null,
            "grid_auto_flow": null,
            "grid_auto_rows": null,
            "grid_column": null,
            "grid_gap": null,
            "grid_row": null,
            "grid_template_areas": null,
            "grid_template_columns": null,
            "grid_template_rows": null,
            "height": null,
            "justify_content": null,
            "justify_items": null,
            "left": null,
            "margin": null,
            "max_height": null,
            "max_width": null,
            "min_height": null,
            "min_width": null,
            "object_fit": null,
            "object_position": null,
            "order": null,
            "overflow": null,
            "overflow_x": null,
            "overflow_y": null,
            "padding": null,
            "right": null,
            "top": null,
            "visibility": null,
            "width": null
          }
        },
        "8948445f9c3746f0b359b279df7c02e0": {
          "model_module": "@jupyter-widgets/controls",
          "model_name": "DescriptionStyleModel",
          "model_module_version": "1.5.0",
          "state": {
            "_model_module": "@jupyter-widgets/controls",
            "_model_module_version": "1.5.0",
            "_model_name": "DescriptionStyleModel",
            "_view_count": null,
            "_view_module": "@jupyter-widgets/base",
            "_view_module_version": "1.2.0",
            "_view_name": "StyleView",
            "description_width": ""
          }
        },
        "a9f9c8996e2e4da2a11c22309c81fc5a": {
          "model_module": "@jupyter-widgets/controls",
          "model_name": "HBoxModel",
          "model_module_version": "1.5.0",
          "state": {
            "_dom_classes": [],
            "_model_module": "@jupyter-widgets/controls",
            "_model_module_version": "1.5.0",
            "_model_name": "HBoxModel",
            "_view_count": null,
            "_view_module": "@jupyter-widgets/controls",
            "_view_module_version": "1.5.0",
            "_view_name": "HBoxView",
            "box_style": "",
            "children": [
              "IPY_MODEL_098d1253d3f64bdc9a6206c697538e75",
              "IPY_MODEL_553c0bd84a9f4b4a855f2a29bdb58c30",
              "IPY_MODEL_193bcd4d84424bde9a26e18df32a3d87"
            ],
            "layout": "IPY_MODEL_2ece4b80fbfd41ee8e993c52b6077d0f"
          }
        },
        "098d1253d3f64bdc9a6206c697538e75": {
          "model_module": "@jupyter-widgets/controls",
          "model_name": "HTMLModel",
          "model_module_version": "1.5.0",
          "state": {
            "_dom_classes": [],
            "_model_module": "@jupyter-widgets/controls",
            "_model_module_version": "1.5.0",
            "_model_name": "HTMLModel",
            "_view_count": null,
            "_view_module": "@jupyter-widgets/controls",
            "_view_module_version": "1.5.0",
            "_view_name": "HTMLView",
            "description": "",
            "description_tooltip": null,
            "layout": "IPY_MODEL_c10a5cc27f094bc5a7903abcafef2f9b",
            "placeholder": "​",
            "style": "IPY_MODEL_95905603e2654e94865a3241909bc0b1",
            "value": "tokenizer.json: 100%"
          }
        },
        "553c0bd84a9f4b4a855f2a29bdb58c30": {
          "model_module": "@jupyter-widgets/controls",
          "model_name": "FloatProgressModel",
          "model_module_version": "1.5.0",
          "state": {
            "_dom_classes": [],
            "_model_module": "@jupyter-widgets/controls",
            "_model_module_version": "1.5.0",
            "_model_name": "FloatProgressModel",
            "_view_count": null,
            "_view_module": "@jupyter-widgets/controls",
            "_view_module_version": "1.5.0",
            "_view_name": "ProgressView",
            "bar_style": "success",
            "description": "",
            "description_tooltip": null,
            "layout": "IPY_MODEL_1d272ad6614b42c995ded382cb058f2c",
            "max": 1355863,
            "min": 0,
            "orientation": "horizontal",
            "style": "IPY_MODEL_c989fec7e8ec49a3947f319b31246419",
            "value": 1355863
          }
        },
        "193bcd4d84424bde9a26e18df32a3d87": {
          "model_module": "@jupyter-widgets/controls",
          "model_name": "HTMLModel",
          "model_module_version": "1.5.0",
          "state": {
            "_dom_classes": [],
            "_model_module": "@jupyter-widgets/controls",
            "_model_module_version": "1.5.0",
            "_model_name": "HTMLModel",
            "_view_count": null,
            "_view_module": "@jupyter-widgets/controls",
            "_view_module_version": "1.5.0",
            "_view_name": "HTMLView",
            "description": "",
            "description_tooltip": null,
            "layout": "IPY_MODEL_24b9270c5f3243bc9927b9d74a0bf700",
            "placeholder": "​",
            "style": "IPY_MODEL_d4295a04d3c94c61b3bab661554f6fab",
            "value": " 1.36M/1.36M [00:00&lt;00:00, 3.30MB/s]"
          }
        },
        "2ece4b80fbfd41ee8e993c52b6077d0f": {
          "model_module": "@jupyter-widgets/base",
          "model_name": "LayoutModel",
          "model_module_version": "1.2.0",
          "state": {
            "_model_module": "@jupyter-widgets/base",
            "_model_module_version": "1.2.0",
            "_model_name": "LayoutModel",
            "_view_count": null,
            "_view_module": "@jupyter-widgets/base",
            "_view_module_version": "1.2.0",
            "_view_name": "LayoutView",
            "align_content": null,
            "align_items": null,
            "align_self": null,
            "border": null,
            "bottom": null,
            "display": null,
            "flex": null,
            "flex_flow": null,
            "grid_area": null,
            "grid_auto_columns": null,
            "grid_auto_flow": null,
            "grid_auto_rows": null,
            "grid_column": null,
            "grid_gap": null,
            "grid_row": null,
            "grid_template_areas": null,
            "grid_template_columns": null,
            "grid_template_rows": null,
            "height": null,
            "justify_content": null,
            "justify_items": null,
            "left": null,
            "margin": null,
            "max_height": null,
            "max_width": null,
            "min_height": null,
            "min_width": null,
            "object_fit": null,
            "object_position": null,
            "order": null,
            "overflow": null,
            "overflow_x": null,
            "overflow_y": null,
            "padding": null,
            "right": null,
            "top": null,
            "visibility": null,
            "width": null
          }
        },
        "c10a5cc27f094bc5a7903abcafef2f9b": {
          "model_module": "@jupyter-widgets/base",
          "model_name": "LayoutModel",
          "model_module_version": "1.2.0",
          "state": {
            "_model_module": "@jupyter-widgets/base",
            "_model_module_version": "1.2.0",
            "_model_name": "LayoutModel",
            "_view_count": null,
            "_view_module": "@jupyter-widgets/base",
            "_view_module_version": "1.2.0",
            "_view_name": "LayoutView",
            "align_content": null,
            "align_items": null,
            "align_self": null,
            "border": null,
            "bottom": null,
            "display": null,
            "flex": null,
            "flex_flow": null,
            "grid_area": null,
            "grid_auto_columns": null,
            "grid_auto_flow": null,
            "grid_auto_rows": null,
            "grid_column": null,
            "grid_gap": null,
            "grid_row": null,
            "grid_template_areas": null,
            "grid_template_columns": null,
            "grid_template_rows": null,
            "height": null,
            "justify_content": null,
            "justify_items": null,
            "left": null,
            "margin": null,
            "max_height": null,
            "max_width": null,
            "min_height": null,
            "min_width": null,
            "object_fit": null,
            "object_position": null,
            "order": null,
            "overflow": null,
            "overflow_x": null,
            "overflow_y": null,
            "padding": null,
            "right": null,
            "top": null,
            "visibility": null,
            "width": null
          }
        },
        "95905603e2654e94865a3241909bc0b1": {
          "model_module": "@jupyter-widgets/controls",
          "model_name": "DescriptionStyleModel",
          "model_module_version": "1.5.0",
          "state": {
            "_model_module": "@jupyter-widgets/controls",
            "_model_module_version": "1.5.0",
            "_model_name": "DescriptionStyleModel",
            "_view_count": null,
            "_view_module": "@jupyter-widgets/base",
            "_view_module_version": "1.2.0",
            "_view_name": "StyleView",
            "description_width": ""
          }
        },
        "1d272ad6614b42c995ded382cb058f2c": {
          "model_module": "@jupyter-widgets/base",
          "model_name": "LayoutModel",
          "model_module_version": "1.2.0",
          "state": {
            "_model_module": "@jupyter-widgets/base",
            "_model_module_version": "1.2.0",
            "_model_name": "LayoutModel",
            "_view_count": null,
            "_view_module": "@jupyter-widgets/base",
            "_view_module_version": "1.2.0",
            "_view_name": "LayoutView",
            "align_content": null,
            "align_items": null,
            "align_self": null,
            "border": null,
            "bottom": null,
            "display": null,
            "flex": null,
            "flex_flow": null,
            "grid_area": null,
            "grid_auto_columns": null,
            "grid_auto_flow": null,
            "grid_auto_rows": null,
            "grid_column": null,
            "grid_gap": null,
            "grid_row": null,
            "grid_template_areas": null,
            "grid_template_columns": null,
            "grid_template_rows": null,
            "height": null,
            "justify_content": null,
            "justify_items": null,
            "left": null,
            "margin": null,
            "max_height": null,
            "max_width": null,
            "min_height": null,
            "min_width": null,
            "object_fit": null,
            "object_position": null,
            "order": null,
            "overflow": null,
            "overflow_x": null,
            "overflow_y": null,
            "padding": null,
            "right": null,
            "top": null,
            "visibility": null,
            "width": null
          }
        },
        "c989fec7e8ec49a3947f319b31246419": {
          "model_module": "@jupyter-widgets/controls",
          "model_name": "ProgressStyleModel",
          "model_module_version": "1.5.0",
          "state": {
            "_model_module": "@jupyter-widgets/controls",
            "_model_module_version": "1.5.0",
            "_model_name": "ProgressStyleModel",
            "_view_count": null,
            "_view_module": "@jupyter-widgets/base",
            "_view_module_version": "1.2.0",
            "_view_name": "StyleView",
            "bar_color": null,
            "description_width": ""
          }
        },
        "24b9270c5f3243bc9927b9d74a0bf700": {
          "model_module": "@jupyter-widgets/base",
          "model_name": "LayoutModel",
          "model_module_version": "1.2.0",
          "state": {
            "_model_module": "@jupyter-widgets/base",
            "_model_module_version": "1.2.0",
            "_model_name": "LayoutModel",
            "_view_count": null,
            "_view_module": "@jupyter-widgets/base",
            "_view_module_version": "1.2.0",
            "_view_name": "LayoutView",
            "align_content": null,
            "align_items": null,
            "align_self": null,
            "border": null,
            "bottom": null,
            "display": null,
            "flex": null,
            "flex_flow": null,
            "grid_area": null,
            "grid_auto_columns": null,
            "grid_auto_flow": null,
            "grid_auto_rows": null,
            "grid_column": null,
            "grid_gap": null,
            "grid_row": null,
            "grid_template_areas": null,
            "grid_template_columns": null,
            "grid_template_rows": null,
            "height": null,
            "justify_content": null,
            "justify_items": null,
            "left": null,
            "margin": null,
            "max_height": null,
            "max_width": null,
            "min_height": null,
            "min_width": null,
            "object_fit": null,
            "object_position": null,
            "order": null,
            "overflow": null,
            "overflow_x": null,
            "overflow_y": null,
            "padding": null,
            "right": null,
            "top": null,
            "visibility": null,
            "width": null
          }
        },
        "d4295a04d3c94c61b3bab661554f6fab": {
          "model_module": "@jupyter-widgets/controls",
          "model_name": "DescriptionStyleModel",
          "model_module_version": "1.5.0",
          "state": {
            "_model_module": "@jupyter-widgets/controls",
            "_model_module_version": "1.5.0",
            "_model_name": "DescriptionStyleModel",
            "_view_count": null,
            "_view_module": "@jupyter-widgets/base",
            "_view_module_version": "1.2.0",
            "_view_name": "StyleView",
            "description_width": ""
          }
        }
      }
    }
  },
  "nbformat": 4,
  "nbformat_minor": 0
}
